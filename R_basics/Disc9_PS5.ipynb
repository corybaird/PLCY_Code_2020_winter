{
 "cells": [
  {
   "cell_type": "markdown",
   "metadata": {},
   "source": [
    "# Problem set 5\n",
    "\n",
    "- Below are the functions necessary to complete problem set 5\n",
    "- We will use an internal data set that is available in r-studio"
   ]
  },
  {
   "cell_type": "markdown",
   "metadata": {},
   "source": [
    "## A.1 Import packages"
   ]
  },
  {
   "cell_type": "code",
   "execution_count": 1,
   "metadata": {},
   "outputs": [
    {
     "name": "stderr",
     "output_type": "stream",
     "text": [
      "\n",
      "Attaching package: ‘dplyr’\n",
      "\n",
      "The following objects are masked from ‘package:stats’:\n",
      "\n",
      "    filter, lag\n",
      "\n",
      "The following objects are masked from ‘package:base’:\n",
      "\n",
      "    intersect, setdiff, setequal, union\n",
      "\n"
     ]
    }
   ],
   "source": [
    "library(dplyr) #Data manipulation"
   ]
  },
  {
   "cell_type": "markdown",
   "metadata": {},
   "source": [
    "# 1. "
   ]
  },
  {
   "cell_type": "markdown",
   "metadata": {},
   "source": [
    "## 1.1 Create table\n",
    "\n",
    "- PS5 corresponding problem 1.a\n"
   ]
  },
  {
   "cell_type": "code",
   "execution_count": 2,
   "metadata": {},
   "outputs": [],
   "source": [
    "n = 164+160\n",
    "\n",
    "#Change x number to get answer for your assignment\n",
    "x = n-20-10 #-NUMBER #-NUMBER\n",
    "\n",
    "p = x/n"
   ]
  },
  {
   "cell_type": "code",
   "execution_count": 3,
   "metadata": {},
   "outputs": [
    {
     "data": {
      "text/html": [
       "<table>\n",
       "<thead><tr><th scope=col>x</th><th scope=col>n</th><th scope=col>p</th></tr></thead>\n",
       "<tbody>\n",
       "\t<tr><td>294      </td><td>324      </td><td>0.9074074</td></tr>\n",
       "</tbody>\n",
       "</table>\n"
      ],
      "text/latex": [
       "\\begin{tabular}{lll}\n",
       " x & n & p\\\\\n",
       "\\hline\n",
       "\t 294       & 324       & 0.9074074\\\\\n",
       "\\end{tabular}\n"
      ],
      "text/markdown": [
       "\n",
       "| x | n | p |\n",
       "|---|---|---|\n",
       "| 294       | 324       | 0.9074074 |\n",
       "\n"
      ],
      "text/plain": [
       "     x   n   p        \n",
       "[1,] 294 324 0.9074074"
      ]
     },
     "metadata": {},
     "output_type": "display_data"
    }
   ],
   "source": [
    "table_1 = cbind(x,n,p)\n",
    "table_1"
   ]
  },
  {
   "cell_type": "markdown",
   "metadata": {},
   "source": [
    "## 1.2 Standard error calculation\n",
    "- PS5 corresponding problem 1.b\n",
    "\n",
    "$$SE_{\\hat{p}}= \\sqrt{\\frac{p(1-p)}{n}}$$"
   ]
  },
  {
   "cell_type": "code",
   "execution_count": 4,
   "metadata": {},
   "outputs": [],
   "source": [
    "answer_function_12 = function(sampling_proportion, n){\n",
    "    step_1 = sampling_proportion*(1-sampling_proportion)\n",
    "    step_2 = step_1/n\n",
    "    step_3 = sqrt(step_2)\n",
    "    \n",
    "    return (step_3)\n",
    "}"
   ]
  },
  {
   "cell_type": "code",
   "execution_count": 5,
   "metadata": {},
   "outputs": [
    {
     "data": {
      "text/html": [
       "0.0161033702083318"
      ],
      "text/latex": [
       "0.0161033702083318"
      ],
      "text/markdown": [
       "0.0161033702083318"
      ],
      "text/plain": [
       "[1] 0.01610337"
      ]
     },
     "metadata": {},
     "output_type": "display_data"
    }
   ],
   "source": [
    "standard_error = answer_function_12(p, n)\n",
    "standard_error "
   ]
  },
  {
   "cell_type": "markdown",
   "metadata": {},
   "source": [
    "## 1.3 Create 95% CI interval\n",
    "\n",
    "- PS5 corresponding problem 1.c\n",
    "\n",
    "$$\\hat{p}\\pm z_{\\alpha/2}SE_{\\hat{p}}$$"
   ]
  },
  {
   "cell_type": "code",
   "execution_count": 6,
   "metadata": {},
   "outputs": [],
   "source": [
    "answer_function_13 = function(sampling_proportion, z, std_error){\n",
    "    \n",
    "    rhs = z*std_error\n",
    "    \n",
    "    conf_lower = p-rhs\n",
    "    conf_upper = p+rhs\n",
    "    \n",
    "    print(paste('p +-', round(z,3),'*',round(std_error,3), sep=''))\n",
    "    print(paste('Upper bound: ', conf_upper, ' Lower bound: ', conf_lower, sep=''))\n",
    "}"
   ]
  },
  {
   "cell_type": "code",
   "execution_count": 7,
   "metadata": {},
   "outputs": [
    {
     "name": "stdout",
     "output_type": "stream",
     "text": [
      "[1] \"p +-1.5*0.016\"\n",
      "[1] \"Upper bound: 0.931562462719905 Lower bound: 0.88325235209491\"\n"
     ]
    }
   ],
   "source": [
    "#Change z number to get answer for your assignment\n",
    "z = 1.5\n",
    "\n",
    "\n",
    "answer_function_13(p, z, standard_error)"
   ]
  },
  {
   "cell_type": "markdown",
   "metadata": {},
   "source": [
    "## 1.4 Create 95% CI interval\n",
    "\n",
    "- PS5 corresponding problem 1.d"
   ]
  },
  {
   "cell_type": "code",
   "execution_count": 8,
   "metadata": {},
   "outputs": [
    {
     "data": {
      "text/plain": [
       "\n",
       "\t1-sample proportions test without continuity correction\n",
       "\n",
       "data:  x out of n, null probability 0.25\n",
       "X-squared = 746.81, df = 1, p-value < 2.2e-16\n",
       "alternative hypothesis: true p is not equal to 0.25\n",
       "95 percent confidence interval:\n",
       " 0.8708960 0.9343713\n",
       "sample estimates:\n",
       "        p \n",
       "0.9074074 \n"
      ]
     },
     "metadata": {},
     "output_type": "display_data"
    }
   ],
   "source": [
    "prop.test(x,n, p=.25, correct=F)"
   ]
  },
  {
   "cell_type": "markdown",
   "metadata": {},
   "source": [
    "# 2. "
   ]
  },
  {
   "cell_type": "markdown",
   "metadata": {},
   "source": [
    "## 2.1 Table\n",
    "- PS5 corresponding problem 2.a"
   ]
  },
  {
   "cell_type": "code",
   "execution_count": 9,
   "metadata": {},
   "outputs": [
    {
     "data": {
      "text/html": [
       "<table>\n",
       "<tbody>\n",
       "\t<tr><td> 68</td><td>128</td><td>173</td></tr>\n",
       "\t<tr><td>164</td><td>204</td><td>165</td></tr>\n",
       "</tbody>\n",
       "</table>\n"
      ],
      "text/latex": [
       "\\begin{tabular}{lll}\n",
       "\t  68 & 128 & 173\\\\\n",
       "\t 164 & 204 & 165\\\\\n",
       "\\end{tabular}\n"
      ],
      "text/markdown": [
       "\n",
       "|  68 | 128 | 173 |\n",
       "| 164 | 204 | 165 |\n",
       "\n"
      ],
      "text/plain": [
       "     [,1] [,2] [,3]\n",
       "[1,]  68  128  173 \n",
       "[2,] 164  204  165 "
      ]
     },
     "metadata": {},
     "output_type": "display_data"
    }
   ],
   "source": [
    "table_21 = matrix(nrow=2, ncol=3, c(68,164,128,204,173,165))\n",
    "table_21"
   ]
  },
  {
   "cell_type": "markdown",
   "metadata": {},
   "source": [
    "## 2.2 Chi-square expected values\n",
    "- PS5 corresponding problem 2.c\n",
    "\n",
    "\n",
    "- chisq.test function [info](https://www.rdocumentation.org/packages/stats/versions/3.6.2/topics/chisq.test)\n",
    "    - chisq.test()$expected\n",
    "        - the expected counts under the null hypothesis.\n",
    "\n",
    "\n"
   ]
  },
  {
   "cell_type": "markdown",
   "metadata": {},
   "source": [
    "### 2.2.1 chisq function"
   ]
  },
  {
   "cell_type": "code",
   "execution_count": 10,
   "metadata": {},
   "outputs": [
    {
     "data": {
      "text/html": [
       "<table>\n",
       "<tbody>\n",
       "\t<tr><td> 94.90909</td><td>135.8182 </td><td>138.2727 </td></tr>\n",
       "\t<tr><td>137.09091</td><td>196.1818 </td><td>199.7273 </td></tr>\n",
       "</tbody>\n",
       "</table>\n"
      ],
      "text/latex": [
       "\\begin{tabular}{lll}\n",
       "\t  94.90909 & 135.8182  & 138.2727 \\\\\n",
       "\t 137.09091 & 196.1818  & 199.7273 \\\\\n",
       "\\end{tabular}\n"
      ],
      "text/markdown": [
       "\n",
       "|  94.90909 | 135.8182  | 138.2727  |\n",
       "| 137.09091 | 196.1818  | 199.7273  |\n",
       "\n"
      ],
      "text/plain": [
       "     [,1]      [,2]     [,3]    \n",
       "[1,]  94.90909 135.8182 138.2727\n",
       "[2,] 137.09091 196.1818 199.7273"
      ]
     },
     "metadata": {},
     "output_type": "display_data"
    }
   ],
   "source": [
    "chisq.test(table_21 , correct=F)$expected"
   ]
  },
  {
   "cell_type": "markdown",
   "metadata": {},
   "source": [
    "### 2.2.2 by hand (OPTIONAL)\n",
    "\n",
    "$$\\frac{\\text{Row_total}*\\text{column_total}}{\\text{total_obs}}$$"
   ]
  },
  {
   "cell_type": "code",
   "execution_count": 11,
   "metadata": {},
   "outputs": [
    {
     "name": "stderr",
     "output_type": "stream",
     "text": [
      "Warning message:\n",
      "“`as_tibble.matrix()` requires a matrix with column names or a `.name_repair` argument. Using compatibility `.name_repair`.\n",
      "This warning is displayed once per session.”"
     ]
    },
    {
     "data": {
      "text/html": [
       "<table>\n",
       "<thead><tr><th scope=col>V1</th><th scope=col>V2</th><th scope=col>V3</th><th scope=col>total</th></tr></thead>\n",
       "<tbody>\n",
       "\t<tr><td> 68</td><td>128</td><td>173</td><td>369</td></tr>\n",
       "\t<tr><td>164</td><td>204</td><td>165</td><td>533</td></tr>\n",
       "\t<tr><td>232</td><td>332</td><td>338</td><td>902</td></tr>\n",
       "</tbody>\n",
       "</table>\n"
      ],
      "text/latex": [
       "\\begin{tabular}{r|llll}\n",
       " V1 & V2 & V3 & total\\\\\n",
       "\\hline\n",
       "\t  68 & 128 & 173 & 369\\\\\n",
       "\t 164 & 204 & 165 & 533\\\\\n",
       "\t 232 & 332 & 338 & 902\\\\\n",
       "\\end{tabular}\n"
      ],
      "text/markdown": [
       "\n",
       "| V1 | V2 | V3 | total |\n",
       "|---|---|---|---|\n",
       "|  68 | 128 | 173 | 369 |\n",
       "| 164 | 204 | 165 | 533 |\n",
       "| 232 | 332 | 338 | 902 |\n",
       "\n"
      ],
      "text/plain": [
       "  V1  V2  V3  total\n",
       "1  68 128 173 369  \n",
       "2 164 204 165 533  \n",
       "3 232 332 338 902  "
      ]
     },
     "metadata": {},
     "output_type": "display_data"
    }
   ],
   "source": [
    "table_21_full = as_tibble(table_21)  %>% mutate(total= rowSums(.))\n",
    "table_21_full = rbind(table_21_full, colSums(table_21_full))\n",
    "table_21_full"
   ]
  },
  {
   "cell_type": "markdown",
   "metadata": {},
   "source": [
    "#### 2.2.2.1 Calculate with sums (3rd row & 4th column)"
   ]
  },
  {
   "cell_type": "code",
   "execution_count": 12,
   "metadata": {},
   "outputs": [
    {
     "data": {
      "text/html": [
       "<table>\n",
       "<thead><tr><th scope=col>V1</th><th scope=col>V2</th><th scope=col>V3</th></tr></thead>\n",
       "<tbody>\n",
       "\t<tr><td>232</td><td>332</td><td>338</td></tr>\n",
       "</tbody>\n",
       "</table>\n"
      ],
      "text/latex": [
       "\\begin{tabular}{r|lll}\n",
       " V1 & V2 & V3\\\\\n",
       "\\hline\n",
       "\t 232 & 332 & 338\\\\\n",
       "\\end{tabular}\n"
      ],
      "text/markdown": [
       "\n",
       "| V1 | V2 | V3 |\n",
       "|---|---|---|\n",
       "| 232 | 332 | 338 |\n",
       "\n"
      ],
      "text/plain": [
       "  V1  V2  V3 \n",
       "1 232 332 338"
      ]
     },
     "metadata": {},
     "output_type": "display_data"
    }
   ],
   "source": [
    "#3rd row\n",
    "col_sums = table_21_full[3,1:3]\n",
    "col_sums"
   ]
  },
  {
   "cell_type": "code",
   "execution_count": 13,
   "metadata": {},
   "outputs": [
    {
     "name": "stdout",
     "output_type": "stream",
     "text": [
      "[1] 369\n",
      "[1] 533\n"
     ]
    }
   ],
   "source": [
    "#4th column\n",
    "row_sums_1 = as.numeric(table_21_full[1,4])\n",
    "row_sums_2 = as.numeric(table_21_full[2,4])\n",
    "print(row_sums_1)\n",
    "print(row_sums_2)"
   ]
  },
  {
   "cell_type": "code",
   "execution_count": 14,
   "metadata": {},
   "outputs": [
    {
     "data": {
      "text/html": [
       "<table>\n",
       "<thead><tr><th scope=col>V1</th><th scope=col>V2</th><th scope=col>V3</th></tr></thead>\n",
       "<tbody>\n",
       "\t<tr><td>94.90909</td><td>135.8182</td><td>138.2727</td></tr>\n",
       "</tbody>\n",
       "</table>\n"
      ],
      "text/latex": [
       "\\begin{tabular}{r|lll}\n",
       " V1 & V2 & V3\\\\\n",
       "\\hline\n",
       "\t 94.90909 & 135.8182 & 138.2727\\\\\n",
       "\\end{tabular}\n"
      ],
      "text/markdown": [
       "\n",
       "| V1 | V2 | V3 |\n",
       "|---|---|---|\n",
       "| 94.90909 | 135.8182 | 138.2727 |\n",
       "\n"
      ],
      "text/plain": [
       "  V1       V2       V3      \n",
       "1 94.90909 135.8182 138.2727"
      ]
     },
     "metadata": {},
     "output_type": "display_data"
    }
   ],
   "source": [
    "col_sums*row_sums_1/902"
   ]
  },
  {
   "cell_type": "code",
   "execution_count": 15,
   "metadata": {},
   "outputs": [
    {
     "data": {
      "text/html": [
       "<table>\n",
       "<thead><tr><th scope=col>V1</th><th scope=col>V2</th><th scope=col>V3</th></tr></thead>\n",
       "<tbody>\n",
       "\t<tr><td>137.0909</td><td>196.1818</td><td>199.7273</td></tr>\n",
       "</tbody>\n",
       "</table>\n"
      ],
      "text/latex": [
       "\\begin{tabular}{r|lll}\n",
       " V1 & V2 & V3\\\\\n",
       "\\hline\n",
       "\t 137.0909 & 196.1818 & 199.7273\\\\\n",
       "\\end{tabular}\n"
      ],
      "text/markdown": [
       "\n",
       "| V1 | V2 | V3 |\n",
       "|---|---|---|\n",
       "| 137.0909 | 196.1818 | 199.7273 |\n",
       "\n"
      ],
      "text/plain": [
       "  V1       V2       V3      \n",
       "1 137.0909 196.1818 199.7273"
      ]
     },
     "metadata": {},
     "output_type": "display_data"
    }
   ],
   "source": [
    "col_sums*row_sums_2/902"
   ]
  },
  {
   "cell_type": "markdown",
   "metadata": {},
   "source": [
    "## 2.3 Chi-square test for null that age provides information about the approval for stop and frisk"
   ]
  },
  {
   "cell_type": "code",
   "execution_count": 16,
   "metadata": {},
   "outputs": [
    {
     "data": {
      "text/plain": [
       "\n",
       "\tPearson's Chi-squared test\n",
       "\n",
       "data:  table_21\n",
       "X-squared = 28.433, df = 2, p-value = 6.697e-07\n"
      ]
     },
     "metadata": {},
     "output_type": "display_data"
    }
   ],
   "source": [
    "chisq.test(table_21 , correct=F)"
   ]
  },
  {
   "cell_type": "markdown",
   "metadata": {},
   "source": [
    "# 3. Chi square\n",
    "\n",
    "## 3.1 \n",
    "- PS5 corresponding problem 3.b\n",
    "    - Similar to 2.2.1 "
   ]
  },
  {
   "cell_type": "code",
   "execution_count": 17,
   "metadata": {},
   "outputs": [],
   "source": [
    "#fridays = c()"
   ]
  },
  {
   "cell_type": "code",
   "execution_count": 18,
   "metadata": {},
   "outputs": [],
   "source": [
    "#chisq.test(fridays, correct=F)$expected"
   ]
  },
  {
   "cell_type": "markdown",
   "metadata": {},
   "source": [
    "## 3.2\n",
    "\n",
    "PS5 corresponding problem 3.c\n",
    "   - Similar to 2.3"
   ]
  },
  {
   "cell_type": "code",
   "execution_count": 19,
   "metadata": {},
   "outputs": [],
   "source": [
    "#probabilities = #c(#,#,#)\n",
    "#chisq.test(fridays, correct=F, p=probabilities)"
   ]
  },
  {
   "cell_type": "markdown",
   "metadata": {},
   "source": [
    "# 4. Regression (OPTIONAL)\n",
    "- [Data](https://ideas.repec.org/p/boc/bocins/bwght.html)"
   ]
  },
  {
   "cell_type": "markdown",
   "metadata": {},
   "source": [
    "## 4.1 Download data"
   ]
  },
  {
   "cell_type": "code",
   "execution_count": 20,
   "metadata": {},
   "outputs": [],
   "source": [
    "library(foreign)"
   ]
  },
  {
   "cell_type": "code",
   "execution_count": 21,
   "metadata": {},
   "outputs": [],
   "source": [
    "url = 'http://fmwww.bc.edu/ec-p/data/wooldridge/bwght.dta'\n",
    "#url = 'http://fmwww.bc.edu/ec-p/data/wooldridge/bwght2.dta'\n",
    "df_birth = read.dta(url)"
   ]
  },
  {
   "cell_type": "code",
   "execution_count": 22,
   "metadata": {
    "scrolled": true
   },
   "outputs": [
    {
     "data": {
      "text/html": [
       "<table>\n",
       "<thead><tr><th scope=col>faminc</th><th scope=col>cigtax</th><th scope=col>cigprice</th><th scope=col>bwght</th><th scope=col>fatheduc</th><th scope=col>motheduc</th><th scope=col>parity</th><th scope=col>male</th><th scope=col>white</th><th scope=col>cigs</th><th scope=col>lbwght</th><th scope=col>bwghtlbs</th><th scope=col>packs</th><th scope=col>lfaminc</th></tr></thead>\n",
       "<tbody>\n",
       "\t<tr><td>13.5    </td><td>16.5    </td><td>122.3   </td><td>109     </td><td>12      </td><td>12      </td><td>1       </td><td>1       </td><td>1       </td><td>0       </td><td>4.691348</td><td>6.8125  </td><td>0       </td><td>2.602690</td></tr>\n",
       "\t<tr><td> 7.5    </td><td>16.5    </td><td>122.3   </td><td>133     </td><td> 6      </td><td>12      </td><td>2       </td><td>1       </td><td>0       </td><td>0       </td><td>4.890349</td><td>8.3125  </td><td>0       </td><td>2.014903</td></tr>\n",
       "</tbody>\n",
       "</table>\n"
      ],
      "text/latex": [
       "\\begin{tabular}{r|llllllllllllll}\n",
       " faminc & cigtax & cigprice & bwght & fatheduc & motheduc & parity & male & white & cigs & lbwght & bwghtlbs & packs & lfaminc\\\\\n",
       "\\hline\n",
       "\t 13.5     & 16.5     & 122.3    & 109      & 12       & 12       & 1        & 1        & 1        & 0        & 4.691348 & 6.8125   & 0        & 2.602690\\\\\n",
       "\t  7.5     & 16.5     & 122.3    & 133      &  6       & 12       & 2        & 1        & 0        & 0        & 4.890349 & 8.3125   & 0        & 2.014903\\\\\n",
       "\\end{tabular}\n"
      ],
      "text/markdown": [
       "\n",
       "| faminc | cigtax | cigprice | bwght | fatheduc | motheduc | parity | male | white | cigs | lbwght | bwghtlbs | packs | lfaminc |\n",
       "|---|---|---|---|---|---|---|---|---|---|---|---|---|---|\n",
       "| 13.5     | 16.5     | 122.3    | 109      | 12       | 12       | 1        | 1        | 1        | 0        | 4.691348 | 6.8125   | 0        | 2.602690 |\n",
       "|  7.5     | 16.5     | 122.3    | 133      |  6       | 12       | 2        | 1        | 0        | 0        | 4.890349 | 8.3125   | 0        | 2.014903 |\n",
       "\n"
      ],
      "text/plain": [
       "  faminc cigtax cigprice bwght fatheduc motheduc parity male white cigs\n",
       "1 13.5   16.5   122.3    109   12       12       1      1    1     0   \n",
       "2  7.5   16.5   122.3    133    6       12       2      1    0     0   \n",
       "  lbwght   bwghtlbs packs lfaminc \n",
       "1 4.691348 6.8125   0     2.602690\n",
       "2 4.890349 8.3125   0     2.014903"
      ]
     },
     "metadata": {},
     "output_type": "display_data"
    }
   ],
   "source": [
    "df_birth %>% head(2)"
   ]
  },
  {
   "cell_type": "code",
   "execution_count": 23,
   "metadata": {},
   "outputs": [
    {
     "data": {
      "image/png": "[encoded data removed]",
      "text/plain": [
       "plot without title"
      ]
     },
     "metadata": {},
     "output_type": "display_data"
    }
   ],
   "source": [
    "plot(df_birth$cigs, df_birth$bwght)\n",
    "abline(lm(bwght~cigs, data=df_birth), col=\"red\")"
   ]
  },
  {
   "cell_type": "markdown",
   "metadata": {},
   "source": [
    "## 4.2 Regression\n",
    "- lm function"
   ]
  },
  {
   "cell_type": "code",
   "execution_count": 24,
   "metadata": {},
   "outputs": [
    {
     "data": {
      "text/plain": [
       "\n",
       "Call:\n",
       "lm(formula = bwght ~ cigs, data = df_birth)\n",
       "\n",
       "Coefficients:\n",
       "(Intercept)         cigs  \n",
       "   119.7719      -0.5138  \n"
      ]
     },
     "metadata": {},
     "output_type": "display_data"
    }
   ],
   "source": [
    "lm(bwght~ cigs, data= df_birth)"
   ]
  },
  {
   "cell_type": "markdown",
   "metadata": {},
   "source": [
    "### 4.2.1 Coefficients"
   ]
  },
  {
   "cell_type": "code",
   "execution_count": 25,
   "metadata": {},
   "outputs": [
    {
     "data": {
      "text/html": [
       "<dl class=dl-horizontal>\n",
       "\t<dt>(Intercept)</dt>\n",
       "\t\t<dd>119.77190039835</dd>\n",
       "\t<dt>cigs</dt>\n",
       "\t\t<dd>-0.513772092823396</dd>\n",
       "</dl>\n"
      ],
      "text/latex": [
       "\\begin{description*}\n",
       "\\item[(Intercept)] 119.77190039835\n",
       "\\item[cigs] -0.513772092823396\n",
       "\\end{description*}\n"
      ],
      "text/markdown": [
       "(Intercept)\n",
       ":   119.77190039835cigs\n",
       ":   -0.513772092823396\n",
       "\n"
      ],
      "text/plain": [
       "(Intercept)        cigs \n",
       "119.7719004  -0.5137721 "
      ]
     },
     "metadata": {},
     "output_type": "display_data"
    }
   ],
   "source": [
    "coefs = lm(bwght~ cigs, data= df_birth)$coefficients\n",
    "coefs "
   ]
  },
  {
   "cell_type": "markdown",
   "metadata": {},
   "source": [
    "## 4.3 Calculate expected weight given smoked cigs a day\n",
    "PS5 corresponding problem 4.d\n"
   ]
  },
  {
   "cell_type": "code",
   "execution_count": 26,
   "metadata": {},
   "outputs": [
    {
     "data": {
      "text/html": [
       "119.77190039835"
      ],
      "text/latex": [
       "119.77190039835"
      ],
      "text/markdown": [
       "119.77190039835"
      ],
      "text/plain": [
       "[1] 119.7719"
      ]
     },
     "metadata": {},
     "output_type": "display_data"
    }
   ],
   "source": [
    "beta0 = coefs[c(1)] %>% as.double()\n",
    "beta0 "
   ]
  },
  {
   "cell_type": "code",
   "execution_count": 27,
   "metadata": {},
   "outputs": [
    {
     "data": {
      "text/html": [
       "-0.513772092823396"
      ],
      "text/latex": [
       "-0.513772092823396"
      ],
      "text/markdown": [
       "-0.513772092823396"
      ],
      "text/plain": [
       "[1] -0.5137721"
      ]
     },
     "metadata": {},
     "output_type": "display_data"
    }
   ],
   "source": [
    "beta1 =coefs[c(2)] %>% as.double()\n",
    "beta1 "
   ]
  },
  {
   "cell_type": "code",
   "execution_count": 28,
   "metadata": {},
   "outputs": [
    {
     "data": {
      "text/html": [
       "114.634179470116"
      ],
      "text/latex": [
       "114.634179470116"
      ],
      "text/markdown": [
       "114.634179470116"
      ],
      "text/plain": [
       "[1] 114.6342"
      ]
     },
     "metadata": {},
     "output_type": "display_data"
    }
   ],
   "source": [
    "cigs_day = 10\n",
    "beta0 + cigs_day*beta1 "
   ]
  },
  {
   "cell_type": "markdown",
   "metadata": {},
   "source": [
    "### 4.3.1 Input data "
   ]
  },
  {
   "cell_type": "code",
   "execution_count": 29,
   "metadata": {},
   "outputs": [
    {
     "name": "stdout",
     "output_type": "stream",
     "text": [
      "Enter number of cigs smoked a day : 10\n",
      "[1] \"Smoking 10 cigs/day, we expect a child to be 114.634 ounces\"\n"
     ]
    }
   ],
   "source": [
    "var = readline(prompt = \"Enter number of cigs smoked a day : \"); \n",
    "  \n",
    "# convert the inputted value to an integer \n",
    "var1 = beta0 + beta1*as.integer(var)\n",
    "  \n",
    "# print the value \n",
    "print(paste('Smoking ', var, ' cigs/day, we expect a child to be ', round(var1,3), ' ounces', sep=''))"
   ]
  },
  {
   "cell_type": "code",
   "execution_count": null,
   "metadata": {},
   "outputs": [],
   "source": []
  }
 ],
 "metadata": {
  "kernelspec": {
   "display_name": "R",
   "language": "R",
   "name": "ir"
  },
  "language_info": {
   "codemirror_mode": "r",
   "file_extension": ".r",
   "mimetype": "text/x-r-source",
   "name": "R",
   "pygments_lexer": "r",
   "version": "3.6.1"
  }
 },
 "nbformat": 4,
 "nbformat_minor": 4
}
