{
 "cells": [
  {
   "cell_type": "markdown",
   "metadata": {},
   "source": [
    "## A.1 Import libraries"
   ]
  },
  {
   "cell_type": "code",
   "execution_count": 2,
   "metadata": {},
   "outputs": [],
   "source": [
    "#install.packages('dplyr')\n",
    "library(dplyr)"
   ]
  },
  {
   "cell_type": "markdown",
   "metadata": {},
   "source": [
    "## A.2 Import data"
   ]
  },
  {
   "cell_type": "code",
   "execution_count": 4,
   "metadata": {},
   "outputs": [],
   "source": [
    "# Github file url\n",
    "url = 'https://raw.githubusercontent.com/corybaird/PLCY_610_public/master/Discussion_sections/Disc7_PS4/ps4data.csv'\n",
    "# Download data into df \n",
    "df = read.csv(url)"
   ]
  },
  {
   "cell_type": "code",
   "execution_count": 5,
   "metadata": {},
   "outputs": [
    {
     "data": {
      "text/html": [
       "<table>\n",
       "<thead><tr><th scope=col>abd</th><th scope=col>age</th><th scope=col>fthr_ed</th><th scope=col>educ</th><th scope=col>log.wage</th></tr></thead>\n",
       "<tbody>\n",
       "\t<tr><td>1       </td><td>21      </td><td>7       </td><td>6       </td><td>8.517393</td></tr>\n",
       "\t<tr><td>1       </td><td>29      </td><td>7       </td><td>3       </td><td>6.370472</td></tr>\n",
       "\t<tr><td>1       </td><td>23      </td><td>7       </td><td>4       </td><td>7.670362</td></tr>\n",
       "</tbody>\n",
       "</table>\n"
      ],
      "text/latex": [
       "\\begin{tabular}{r|lllll}\n",
       " abd & age & fthr\\_ed & educ & log.wage\\\\\n",
       "\\hline\n",
       "\t 1        & 21       & 7        & 6        & 8.517393\\\\\n",
       "\t 1        & 29       & 7        & 3        & 6.370472\\\\\n",
       "\t 1        & 23       & 7        & 4        & 7.670362\\\\\n",
       "\\end{tabular}\n"
      ],
      "text/markdown": [
       "\n",
       "| abd | age | fthr_ed | educ | log.wage |\n",
       "|---|---|---|---|---|\n",
       "| 1        | 21       | 7        | 6        | 8.517393 |\n",
       "| 1        | 29       | 7        | 3        | 6.370472 |\n",
       "| 1        | 23       | 7        | 4        | 7.670362 |\n",
       "\n"
      ],
      "text/plain": [
       "  abd age fthr_ed educ log.wage\n",
       "1 1   21  7       6    8.517393\n",
       "2 1   29  7       3    6.370472\n",
       "3 1   23  7       4    7.670362"
      ]
     },
     "metadata": {},
     "output_type": "display_data"
    }
   ],
   "source": [
    "df %>% head(3)"
   ]
  },
  {
   "cell_type": "markdown",
   "metadata": {},
   "source": [
    "# 1. Standard error and confidence intervals\n",
    "- `PS4 corresponding problem 1.a`\n",
    "\n",
    "\n",
    "$$\\bar{x}\\pm t \\cdot \\frac{s}{\\sqrt{n}}$$"
   ]
  },
  {
   "cell_type": "markdown",
   "metadata": {},
   "source": [
    "## 1.1 Calculation: by hand\n",
    "\n",
    "### 1.1.1 Standard error\n",
    "\n",
    "$$ \\frac{s}{\\sqrt{n}}$$"
   ]
  },
  {
   "cell_type": "code",
   "execution_count": 9,
   "metadata": {},
   "outputs": [
    {
     "data": {
      "text/html": [
       "0.183886781384467"
      ],
      "text/latex": [
       "0.183886781384467"
      ],
      "text/markdown": [
       "0.183886781384467"
      ],
      "text/plain": [
       "[1] 0.1838868"
      ]
     },
     "metadata": {},
     "output_type": "display_data"
    }
   ],
   "source": [
    "# standard deviation\n",
    "sd = sd(df$age)\n",
    "\n",
    "# n (sample size)\n",
    "n = length(df$age)\n",
    "\n",
    "standard_error = sd/(sqrt(n))\n",
    "standard_error"
   ]
  },
  {
   "cell_type": "markdown",
   "metadata": {},
   "source": [
    "### 1.1.2 t-score"
   ]
  },
  {
   "cell_type": "code",
   "execution_count": 11,
   "metadata": {},
   "outputs": [],
   "source": [
    "# t-score with a 95% confidence level\n",
    "tscore = qt(0.975, df=length(df$edu)-1) #note df= degrees of freedom not dataframe!\n",
    "\n",
    "# x-bar (mean)\n",
    "x_bar = mean(df$age)"
   ]
  },
  {
   "cell_type": "markdown",
   "metadata": {},
   "source": [
    "### 1.1.3 Confidence intervals"
   ]
  },
  {
   "cell_type": "code",
   "execution_count": 12,
   "metadata": {},
   "outputs": [
    {
     "data": {
      "text/html": [
       "20.5472302019596"
      ],
      "text/latex": [
       "20.5472302019596"
      ],
      "text/markdown": [
       "20.5472302019596"
      ],
      "text/plain": [
       "[1] 20.54723"
      ]
     },
     "metadata": {},
     "output_type": "display_data"
    }
   ],
   "source": [
    "lower_confidence = x_bar - tscore*standard_error\n",
    "lower_confidence"
   ]
  },
  {
   "cell_type": "code",
   "execution_count": 13,
   "metadata": {},
   "outputs": [
    {
     "data": {
      "text/html": [
       "21.2692340355573"
      ],
      "text/latex": [
       "21.2692340355573"
      ],
      "text/markdown": [
       "21.2692340355573"
      ],
      "text/plain": [
       "[1] 21.26923"
      ]
     },
     "metadata": {},
     "output_type": "display_data"
    }
   ],
   "source": [
    "upper_confidence = x_bar + tscore*standard_error\n",
    "upper_confidence"
   ]
  },
  {
   "cell_type": "markdown",
   "metadata": {},
   "source": [
    "## 1.2 Calculation: by function (OPTIONAL)"
   ]
  },
  {
   "cell_type": "code",
   "execution_count": 38,
   "metadata": {},
   "outputs": [],
   "source": [
    "answer_function = function(column){\n",
    "   \n",
    "    sd = sd(column)\n",
    "    n = length(column)\n",
    "    standard_error = sd/(sqrt(n))\n",
    "    tscore = qt(0.975, df=length(column)-1) #note df= degrees of freedom not dataframe!\n",
    "    solu = tscore*standard_error\n",
    "\n",
    "    x_mean = mean(column)\n",
    "\n",
    "    conf_lower = round(x_mean-solu,6)\n",
    "    conf_upper = round(x_mean+solu,6)\n",
    "    \n",
    "    print(paste('Mean:', x_mean,'+-', round(tscore,3),'*',round(standard_error,3), sep=''))\n",
    "    print(paste('Upper bound: ', conf_upper, ' Lower bound: ', conf_lower, sep=''))\n",
    "}"
   ]
  },
  {
   "cell_type": "code",
   "execution_count": 40,
   "metadata": {},
   "outputs": [
    {
     "name": "stdout",
     "output_type": "stream",
     "text": [
      "[1] \"Mean:20.9082321187584+-1.963*0.184\"\n",
      "[1] \"Upper bound: 21.269234 Lower bound: 20.54723\"\n"
     ]
    }
   ],
   "source": [
    "answer_function(df$age)"
   ]
  },
  {
   "cell_type": "markdown",
   "metadata": {},
   "source": [
    "# 2. t-tests\n",
    "\n",
    "## 2.1 Two sided t-test: ONE MEAN\n",
    "- `PS4 corresponding problem 1.b`\n",
    "\n",
    "$$\n",
    "\\text{Null Hypothesis}--H_0: 30\\\\\n",
    "\\text{Alt Hypothesis}--H_a: \\neq 30\n",
    "$$"
   ]
  },
  {
   "cell_type": "code",
   "execution_count": 21,
   "metadata": {},
   "outputs": [
    {
     "data": {
      "text/plain": [
       "\n",
       "\tOne Sample t-test\n",
       "\n",
       "data:  df$age\n",
       "t = -49.442, df = 740, p-value < 2.2e-16\n",
       "alternative hypothesis: true mean is not equal to 30\n",
       "95 percent confidence interval:\n",
       " 20.54723 21.26923\n",
       "sample estimates:\n",
       "mean of x \n",
       " 20.90823 \n"
      ]
     },
     "metadata": {},
     "output_type": "display_data"
    }
   ],
   "source": [
    "# Is the mean for age statistically different than 30?\n",
    "age = 30 \n",
    "\n",
    "t.test(df$age, mu = age)"
   ]
  },
  {
   "cell_type": "markdown",
   "metadata": {},
   "source": [
    "## 2.2 Two sided t-test: ONE MEAN\n",
    "- `PS4 corresponding problem 1.c`\n",
    "\n",
    "$$\n",
    "\\text{Null Hypothesis}--H_0: 22\\\\\n",
    "\\text{Alt Hypothesis}--H_a: \\neq 22\n",
    "$$"
   ]
  },
  {
   "cell_type": "code",
   "execution_count": 22,
   "metadata": {},
   "outputs": [
    {
     "data": {
      "text/plain": [
       "\n",
       "\tOne Sample t-test\n",
       "\n",
       "data:  df$age\n",
       "t = -5.9372, df = 740, p-value = 4.457e-09\n",
       "alternative hypothesis: true mean is not equal to 22\n",
       "95 percent confidence interval:\n",
       " 20.54723 21.26923\n",
       "sample estimates:\n",
       "mean of x \n",
       " 20.90823 \n"
      ]
     },
     "metadata": {},
     "output_type": "display_data"
    }
   ],
   "source": [
    "# Is the mean for age statistically different than 30?\n",
    "age = 22\n",
    "\n",
    "t.test(df$age, mu = age)"
   ]
  },
  {
   "cell_type": "markdown",
   "metadata": {},
   "source": [
    "## 2.3 Two-side t-test: TWO MEANS\n",
    "\n",
    "- `PS4 corresponding problem 1.d`\n"
   ]
  },
  {
   "cell_type": "markdown",
   "metadata": {},
   "source": [
    "### 2.3.1 Seperate two groups (filter data)\n",
    "- We did seperated our data frame into two groups (data frames) in the 3rd video under number 3. Link [here](https://github.com/corybaird/PLCY_610_public/blob/master/Discussion_sections/Disc3_PS2/Disc3_PS2.ipynb)"
   ]
  },
  {
   "cell_type": "code",
   "execution_count": 23,
   "metadata": {},
   "outputs": [
    {
     "data": {
      "text/html": [
       "<table>\n",
       "<thead><tr><th scope=col>abd</th><th scope=col>age</th><th scope=col>fthr_ed</th><th scope=col>educ</th><th scope=col>log.wage</th></tr></thead>\n",
       "<tbody>\n",
       "\t<tr><td>1       </td><td>21      </td><td>7       </td><td>6       </td><td>8.517393</td></tr>\n",
       "\t<tr><td>1       </td><td>29      </td><td>7       </td><td>3       </td><td>6.370472</td></tr>\n",
       "</tbody>\n",
       "</table>\n"
      ],
      "text/latex": [
       "\\begin{tabular}{r|lllll}\n",
       " abd & age & fthr\\_ed & educ & log.wage\\\\\n",
       "\\hline\n",
       "\t 1        & 21       & 7        & 6        & 8.517393\\\\\n",
       "\t 1        & 29       & 7        & 3        & 6.370472\\\\\n",
       "\\end{tabular}\n"
      ],
      "text/markdown": [
       "\n",
       "| abd | age | fthr_ed | educ | log.wage |\n",
       "|---|---|---|---|---|\n",
       "| 1        | 21       | 7        | 6        | 8.517393 |\n",
       "| 1        | 29       | 7        | 3        | 6.370472 |\n",
       "\n"
      ],
      "text/plain": [
       "  abd age fthr_ed educ log.wage\n",
       "1 1   21  7       6    8.517393\n",
       "2 1   29  7       3    6.370472"
      ]
     },
     "metadata": {},
     "output_type": "display_data"
    }
   ],
   "source": [
    "df_abducted = df %>% filter(abd==1)\n",
    "\n",
    "df_abducted %>% head(2)"
   ]
  },
  {
   "cell_type": "code",
   "execution_count": 24,
   "metadata": {},
   "outputs": [
    {
     "data": {
      "text/html": [
       "<table>\n",
       "<thead><tr><th scope=col>abd</th><th scope=col>age</th><th scope=col>fthr_ed</th><th scope=col>educ</th><th scope=col>log.wage</th></tr></thead>\n",
       "<tbody>\n",
       "\t<tr><td>0       </td><td>29      </td><td>7       </td><td>7       </td><td>7.404801</td></tr>\n",
       "\t<tr><td>0       </td><td>14      </td><td>0       </td><td>6       </td><td>4.900324</td></tr>\n",
       "</tbody>\n",
       "</table>\n"
      ],
      "text/latex": [
       "\\begin{tabular}{r|lllll}\n",
       " abd & age & fthr\\_ed & educ & log.wage\\\\\n",
       "\\hline\n",
       "\t 0        & 29       & 7        & 7        & 7.404801\\\\\n",
       "\t 0        & 14       & 0        & 6        & 4.900324\\\\\n",
       "\\end{tabular}\n"
      ],
      "text/markdown": [
       "\n",
       "| abd | age | fthr_ed | educ | log.wage |\n",
       "|---|---|---|---|---|\n",
       "| 0        | 29       | 7        | 7        | 7.404801 |\n",
       "| 0        | 14       | 0        | 6        | 4.900324 |\n",
       "\n"
      ],
      "text/plain": [
       "  abd age fthr_ed educ log.wage\n",
       "1 0   29  7       7    7.404801\n",
       "2 0   14  0       6    4.900324"
      ]
     },
     "metadata": {},
     "output_type": "display_data"
    }
   ],
   "source": [
    "df_non_abducted = df %>% filter(abd==0)\n",
    "\n",
    "df_non_abducted %>% head(2)"
   ]
  },
  {
   "cell_type": "markdown",
   "metadata": {},
   "source": [
    "### 2.3.2 Conduct t-test: Compare ages\n",
    "- select data from each newly created df\n",
    "\n",
    "$$\n",
    "\\text{Null Hypothesis}-- H_0: \\quad \\text{Mean age abducted} - \\text{Mean age NONabducted} = 0\\\\\n",
    "\\text{Alt Hypothesis}-- H_a: \\quad \\text{Mean age abducted} - \\text{Mean age NONabducted} \\neq 0 \n",
    "$$"
   ]
  },
  {
   "cell_type": "code",
   "execution_count": 25,
   "metadata": {},
   "outputs": [
    {
     "data": {
      "text/plain": [
       "\n",
       "\tWelch Two Sample t-test\n",
       "\n",
       "data:  df_abducted$age and df_non_abducted$age\n",
       "t = 3.239, df = 595.88, p-value = 0.001266\n",
       "alternative hypothesis: true difference in means is not equal to 0\n",
       "95 percent confidence interval:\n",
       " 0.4783922 1.9521343\n",
       "sample estimates:\n",
       "mean of x mean of y \n",
       " 21.36580  20.15054 \n"
      ]
     },
     "metadata": {},
     "output_type": "display_data"
    }
   ],
   "source": [
    "t.test(df_abducted$age, df_non_abducted$age)"
   ]
  },
  {
   "cell_type": "markdown",
   "metadata": {},
   "source": [
    "#### 2.3.2.1 Conduct t-test: Compare ages (Alternative method)"
   ]
  },
  {
   "cell_type": "code",
   "execution_count": 33,
   "metadata": {},
   "outputs": [
    {
     "data": {
      "text/plain": [
       "\n",
       "\tWelch Two Sample t-test\n",
       "\n",
       "data:  df$age[df$abd == 1] and df$age[df$abd == 0]\n",
       "t = 3.239, df = 595.88, p-value = 0.001266\n",
       "alternative hypothesis: true difference in means is not equal to 0\n",
       "95 percent confidence interval:\n",
       " 0.4783922 1.9521343\n",
       "sample estimates:\n",
       "mean of x mean of y \n",
       " 21.36580  20.15054 \n"
      ]
     },
     "metadata": {},
     "output_type": "display_data"
    }
   ],
   "source": [
    "t.test(df$age[df$abd==1],df$age[df$abd==0])"
   ]
  },
  {
   "cell_type": "markdown",
   "metadata": {},
   "source": [
    "## 2.3 one-side t-test: TWO MEANS\n",
    "- `PS4 corresponding problem 1.f`\n",
    "\n",
    "- Usually we conduct two-sided test for two means\n",
    "\n",
    "\n",
    "### 2.3.1 Alternative hypothesis: less than 0\n",
    "$$\n",
    "\\text{Null Hypothesis}-- H_0: \\quad \\text{Mean age abducted} - \\text{Mean age NONabducted} < 0\\\\\n",
    "\\text{Alt Hypothesis}-- H_a: \\quad \\text{Mean age abducted} - \\text{Mean age NONabducted} >0 \n",
    "$$"
   ]
  },
  {
   "cell_type": "code",
   "execution_count": 34,
   "metadata": {},
   "outputs": [
    {
     "data": {
      "text/plain": [
       "\n",
       "\tWelch Two Sample t-test\n",
       "\n",
       "data:  df_abducted$educ and df_non_abducted$educ\n",
       "t = -2.6798, df = 551.58, p-value = 0.9962\n",
       "alternative hypothesis: true difference in means is greater than 0\n",
       "95 percent confidence interval:\n",
       " -0.9615124        Inf\n",
       "sample estimates:\n",
       "mean of x mean of y \n",
       " 6.820346  7.415771 \n"
      ]
     },
     "metadata": {},
     "output_type": "display_data"
    }
   ],
   "source": [
    "t.test(df_abducted$educ, df_non_abducted$educ, alternative='greater')"
   ]
  },
  {
   "cell_type": "markdown",
   "metadata": {},
   "source": [
    "## 2.4 Two side t-test: TWO MEANS\n",
    "- `PS4 corresponding problem 1.g`\n"
   ]
  },
  {
   "cell_type": "code",
   "execution_count": 35,
   "metadata": {},
   "outputs": [
    {
     "data": {
      "text/plain": [
       "\n",
       "\tWelch Two Sample t-test\n",
       "\n",
       "data:  df_abducted$fthr_ed and df_non_abducted$fthr_ed\n",
       "t = -1.1125, df = 572.99, p-value = 0.2664\n",
       "alternative hypothesis: true difference in means is not equal to 0\n",
       "95 percent confidence interval:\n",
       " -0.8408032  0.2327410\n",
       "sample estimates:\n",
       "mean of x mean of y \n",
       " 5.764069  6.068100 \n"
      ]
     },
     "metadata": {},
     "output_type": "display_data"
    }
   ],
   "source": [
    "t.test(df_abducted$fthr_ed, df_non_abducted$fthr_ed)"
   ]
  },
  {
   "cell_type": "code",
   "execution_count": null,
   "metadata": {},
   "outputs": [],
   "source": []
  }
 ],
 "metadata": {
  "kernelspec": {
   "display_name": "R",
   "language": "R",
   "name": "ir"
  },
  "language_info": {
   "codemirror_mode": "r",
   "file_extension": ".r",
   "mimetype": "text/x-r-source",
   "name": "R",
   "pygments_lexer": "r",
   "version": "3.6.1"
  }
 },
 "nbformat": 4,
 "nbformat_minor": 4
}
