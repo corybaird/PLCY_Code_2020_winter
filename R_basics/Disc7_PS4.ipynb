{
 "cells": [
  {
   "cell_type": "markdown",
   "metadata": {},
   "source": [
    "# Problem set 4\n",
    "\n",
    "- Below are the functions necessary to complete problem set 4\n",
    "- We will use an internal data set that is available in r-studio"
   ]
  },
  {
   "cell_type": "markdown",
   "metadata": {},
   "source": [
    "## A.1 Import receipts data"
   ]
  },
  {
   "cell_type": "code",
   "execution_count": 1,
   "metadata": {},
   "outputs": [],
   "source": [
    "#Imports internal data set\n",
    "df = read.csv('ps4data.csv')"
   ]
  },
  {
   "cell_type": "markdown",
   "metadata": {},
   "source": [
    "## A.2 Import packages"
   ]
  },
  {
   "cell_type": "code",
   "execution_count": 41,
   "metadata": {},
   "outputs": [],
   "source": [
    "library(dplyr) #Data manipulation"
   ]
  },
  {
   "cell_type": "markdown",
   "metadata": {},
   "source": [
    "# 1. Standard error calculation\n",
    "\n",
    "- `PS3 corresponding problem: 1.a`\n",
    "\n",
    "$$SE_{\\bar{x}}= \\frac{s}{\\sqrt{n}}$$\n"
   ]
  },
  {
   "cell_type": "markdown",
   "metadata": {},
   "source": [
    "## 1.1 Standard error by hand"
   ]
  },
  {
   "cell_type": "markdown",
   "metadata": {},
   "source": [
    "###  1.1.1 Create new data frame with education data only"
   ]
  },
  {
   "cell_type": "code",
   "execution_count": 3,
   "metadata": {},
   "outputs": [
    {
     "data": {
      "text/html": [
       "<table>\n",
       "<thead><tr><th scope=col>educ</th></tr></thead>\n",
       "<tbody>\n",
       "\t<tr><td>6</td></tr>\n",
       "\t<tr><td>3</td></tr>\n",
       "</tbody>\n",
       "</table>\n"
      ],
      "text/latex": [
       "\\begin{tabular}{r|l}\n",
       " educ\\\\\n",
       "\\hline\n",
       "\t 6\\\\\n",
       "\t 3\\\\\n",
       "\\end{tabular}\n"
      ],
      "text/markdown": [
       "\n",
       "| educ |\n",
       "|---|\n",
       "| 6 |\n",
       "| 3 |\n",
       "\n"
      ],
      "text/plain": [
       "  educ\n",
       "1 6   \n",
       "2 3   "
      ]
     },
     "metadata": {},
     "output_type": "display_data"
    }
   ],
   "source": [
    "df_ed = df %>% select(educ)\n",
    "df_ed %>% head(2)"
   ]
  },
  {
   "cell_type": "markdown",
   "metadata": {},
   "source": [
    "### 1.1.2 Calculate deviations from mean\n",
    "$$x_i-\\bar{x}$$\n"
   ]
  },
  {
   "cell_type": "code",
   "execution_count": 4,
   "metadata": {},
   "outputs": [
    {
     "data": {
      "text/html": [
       "<table>\n",
       "<thead><tr><th scope=col>educ</th><th scope=col>educ_mean</th></tr></thead>\n",
       "<tbody>\n",
       "\t<tr><td>6       </td><td>7.044534</td></tr>\n",
       "\t<tr><td>3       </td><td>7.044534</td></tr>\n",
       "</tbody>\n",
       "</table>\n"
      ],
      "text/latex": [
       "\\begin{tabular}{r|ll}\n",
       " educ & educ\\_mean\\\\\n",
       "\\hline\n",
       "\t 6        & 7.044534\\\\\n",
       "\t 3        & 7.044534\\\\\n",
       "\\end{tabular}\n"
      ],
      "text/markdown": [
       "\n",
       "| educ | educ_mean |\n",
       "|---|---|\n",
       "| 6        | 7.044534 |\n",
       "| 3        | 7.044534 |\n",
       "\n"
      ],
      "text/plain": [
       "  educ educ_mean\n",
       "1 6    7.044534 \n",
       "2 3    7.044534 "
      ]
     },
     "metadata": {},
     "output_type": "display_data"
    }
   ],
   "source": [
    "# You can create a new column using the following code: Dataframe$New_column_name\n",
    "df_ed$educ_mean = mean(df_ed$educ)\n",
    "df_ed %>% head(2)"
   ]
  },
  {
   "cell_type": "code",
   "execution_count": 5,
   "metadata": {},
   "outputs": [
    {
     "data": {
      "text/html": [
       "<table>\n",
       "<thead><tr><th scope=col>educ</th><th scope=col>educ_mean</th><th scope=col>deviation</th></tr></thead>\n",
       "<tbody>\n",
       "\t<tr><td>6        </td><td>7.044534 </td><td> 1.091052</td></tr>\n",
       "\t<tr><td>3        </td><td>7.044534 </td><td>16.358259</td></tr>\n",
       "</tbody>\n",
       "</table>\n"
      ],
      "text/latex": [
       "\\begin{tabular}{r|lll}\n",
       " educ & educ\\_mean & deviation\\\\\n",
       "\\hline\n",
       "\t 6         & 7.044534  &  1.091052\\\\\n",
       "\t 3         & 7.044534  & 16.358259\\\\\n",
       "\\end{tabular}\n"
      ],
      "text/markdown": [
       "\n",
       "| educ | educ_mean | deviation |\n",
       "|---|---|---|\n",
       "| 6         | 7.044534  |  1.091052 |\n",
       "| 3         | 7.044534  | 16.358259 |\n",
       "\n"
      ],
      "text/plain": [
       "  educ educ_mean deviation\n",
       "1 6    7.044534   1.091052\n",
       "2 3    7.044534  16.358259"
      ]
     },
     "metadata": {},
     "output_type": "display_data"
    }
   ],
   "source": [
    "df_ed$deviation = (df_ed$educ-df_ed$educ_mean)^2\n",
    "df_ed %>% head(2)"
   ]
  },
  {
   "cell_type": "markdown",
   "metadata": {},
   "source": [
    "### 1.1.3 Sum the deviations\n"
   ]
  },
  {
   "cell_type": "code",
   "execution_count": 42,
   "metadata": {},
   "outputs": [
    {
     "data": {
      "text/html": [
       "<table>\n",
       "<thead><tr><th scope=col>educ</th><th scope=col>educ_mean</th><th scope=col>deviation</th><th scope=col>xi_sum</th><th scope=col>n</th><th scope=col>variance</th><th scope=col>standard_deviation</th><th scope=col>standard_error</th></tr></thead>\n",
       "<tbody>\n",
       "\t<tr><td>6        </td><td>7.044534 </td><td> 1.091052</td><td>6173.53  </td><td>741      </td><td>8.342609 </td><td>2.888357 </td><td>0.1061065</td></tr>\n",
       "\t<tr><td>3        </td><td>7.044534 </td><td>16.358259</td><td>6173.53  </td><td>741      </td><td>8.342609 </td><td>2.888357 </td><td>0.1061065</td></tr>\n",
       "\t<tr><td>4        </td><td>7.044534 </td><td> 9.269190</td><td>6173.53  </td><td>741      </td><td>8.342609 </td><td>2.888357 </td><td>0.1061065</td></tr>\n",
       "</tbody>\n",
       "</table>\n"
      ],
      "text/latex": [
       "\\begin{tabular}{r|llllllll}\n",
       " educ & educ\\_mean & deviation & xi\\_sum & n & variance & standard\\_deviation & standard\\_error\\\\\n",
       "\\hline\n",
       "\t 6         & 7.044534  &  1.091052 & 6173.53   & 741       & 8.342609  & 2.888357  & 0.1061065\\\\\n",
       "\t 3         & 7.044534  & 16.358259 & 6173.53   & 741       & 8.342609  & 2.888357  & 0.1061065\\\\\n",
       "\t 4         & 7.044534  &  9.269190 & 6173.53   & 741       & 8.342609  & 2.888357  & 0.1061065\\\\\n",
       "\\end{tabular}\n"
      ],
      "text/markdown": [
       "\n",
       "| educ | educ_mean | deviation | xi_sum | n | variance | standard_deviation | standard_error |\n",
       "|---|---|---|---|---|---|---|---|\n",
       "| 6         | 7.044534  |  1.091052 | 6173.53   | 741       | 8.342609  | 2.888357  | 0.1061065 |\n",
       "| 3         | 7.044534  | 16.358259 | 6173.53   | 741       | 8.342609  | 2.888357  | 0.1061065 |\n",
       "| 4         | 7.044534  |  9.269190 | 6173.53   | 741       | 8.342609  | 2.888357  | 0.1061065 |\n",
       "\n"
      ],
      "text/plain": [
       "  educ educ_mean deviation xi_sum  n   variance standard_deviation\n",
       "1 6    7.044534   1.091052 6173.53 741 8.342609 2.888357          \n",
       "2 3    7.044534  16.358259 6173.53 741 8.342609 2.888357          \n",
       "3 4    7.044534   9.269190 6173.53 741 8.342609 2.888357          \n",
       "  standard_error\n",
       "1 0.1061065     \n",
       "2 0.1061065     \n",
       "3 0.1061065     "
      ]
     },
     "metadata": {},
     "output_type": "display_data"
    }
   ],
   "source": [
    "df_ed$xi_sum = sum(df_ed$deviation)\n",
    "df_ed %>% head(3)"
   ]
  },
  {
   "cell_type": "markdown",
   "metadata": {},
   "source": [
    "### 1.1.4 Calculate n (this is simply the length of data a.k.a number of observations\n"
   ]
  },
  {
   "cell_type": "code",
   "execution_count": 7,
   "metadata": {},
   "outputs": [
    {
     "data": {
      "text/html": [
       "<table>\n",
       "<thead><tr><th scope=col>educ</th><th scope=col>educ_mean</th><th scope=col>deviation</th><th scope=col>xi_sum</th><th scope=col>n</th></tr></thead>\n",
       "<tbody>\n",
       "\t<tr><td>6        </td><td>7.044534 </td><td> 1.091052</td><td>6173.53  </td><td>741      </td></tr>\n",
       "\t<tr><td>3        </td><td>7.044534 </td><td>16.358259</td><td>6173.53  </td><td>741      </td></tr>\n",
       "\t<tr><td>4        </td><td>7.044534 </td><td> 9.269190</td><td>6173.53  </td><td>741      </td></tr>\n",
       "</tbody>\n",
       "</table>\n"
      ],
      "text/latex": [
       "\\begin{tabular}{r|lllll}\n",
       " educ & educ\\_mean & deviation & xi\\_sum & n\\\\\n",
       "\\hline\n",
       "\t 6         & 7.044534  &  1.091052 & 6173.53   & 741      \\\\\n",
       "\t 3         & 7.044534  & 16.358259 & 6173.53   & 741      \\\\\n",
       "\t 4         & 7.044534  &  9.269190 & 6173.53   & 741      \\\\\n",
       "\\end{tabular}\n"
      ],
      "text/markdown": [
       "\n",
       "| educ | educ_mean | deviation | xi_sum | n |\n",
       "|---|---|---|---|---|\n",
       "| 6         | 7.044534  |  1.091052 | 6173.53   | 741       |\n",
       "| 3         | 7.044534  | 16.358259 | 6173.53   | 741       |\n",
       "| 4         | 7.044534  |  9.269190 | 6173.53   | 741       |\n",
       "\n"
      ],
      "text/plain": [
       "  educ educ_mean deviation xi_sum  n  \n",
       "1 6    7.044534   1.091052 6173.53 741\n",
       "2 3    7.044534  16.358259 6173.53 741\n",
       "3 4    7.044534   9.269190 6173.53 741"
      ]
     },
     "metadata": {},
     "output_type": "display_data"
    }
   ],
   "source": [
    "df_ed$n = length(df_ed$educ)\n",
    "df_ed  %>% head(3)"
   ]
  },
  {
   "cell_type": "markdown",
   "metadata": {},
   "source": [
    "### 1.1.5 Calculate the variance and standard deviation\n"
   ]
  },
  {
   "cell_type": "code",
   "execution_count": 8,
   "metadata": {},
   "outputs": [
    {
     "data": {
      "text/html": [
       "<table>\n",
       "<thead><tr><th scope=col>educ</th><th scope=col>educ_mean</th><th scope=col>deviation</th><th scope=col>xi_sum</th><th scope=col>n</th><th scope=col>variance</th></tr></thead>\n",
       "<tbody>\n",
       "\t<tr><td>6        </td><td>7.044534 </td><td> 1.091052</td><td>6173.53  </td><td>741      </td><td>8.342609 </td></tr>\n",
       "\t<tr><td>3        </td><td>7.044534 </td><td>16.358259</td><td>6173.53  </td><td>741      </td><td>8.342609 </td></tr>\n",
       "\t<tr><td>4        </td><td>7.044534 </td><td> 9.269190</td><td>6173.53  </td><td>741      </td><td>8.342609 </td></tr>\n",
       "</tbody>\n",
       "</table>\n"
      ],
      "text/latex": [
       "\\begin{tabular}{r|llllll}\n",
       " educ & educ\\_mean & deviation & xi\\_sum & n & variance\\\\\n",
       "\\hline\n",
       "\t 6         & 7.044534  &  1.091052 & 6173.53   & 741       & 8.342609 \\\\\n",
       "\t 3         & 7.044534  & 16.358259 & 6173.53   & 741       & 8.342609 \\\\\n",
       "\t 4         & 7.044534  &  9.269190 & 6173.53   & 741       & 8.342609 \\\\\n",
       "\\end{tabular}\n"
      ],
      "text/markdown": [
       "\n",
       "| educ | educ_mean | deviation | xi_sum | n | variance |\n",
       "|---|---|---|---|---|---|\n",
       "| 6         | 7.044534  |  1.091052 | 6173.53   | 741       | 8.342609  |\n",
       "| 3         | 7.044534  | 16.358259 | 6173.53   | 741       | 8.342609  |\n",
       "| 4         | 7.044534  |  9.269190 | 6173.53   | 741       | 8.342609  |\n",
       "\n"
      ],
      "text/plain": [
       "  educ educ_mean deviation xi_sum  n   variance\n",
       "1 6    7.044534   1.091052 6173.53 741 8.342609\n",
       "2 3    7.044534  16.358259 6173.53 741 8.342609\n",
       "3 4    7.044534   9.269190 6173.53 741 8.342609"
      ]
     },
     "metadata": {},
     "output_type": "display_data"
    }
   ],
   "source": [
    "df_ed$variance = df_ed$xi_sum/(df_ed$n-1)\n",
    "df_ed %>% head(3)"
   ]
  },
  {
   "cell_type": "code",
   "execution_count": 9,
   "metadata": {},
   "outputs": [
    {
     "data": {
      "text/html": [
       "<table>\n",
       "<thead><tr><th scope=col>educ</th><th scope=col>educ_mean</th><th scope=col>deviation</th><th scope=col>xi_sum</th><th scope=col>n</th><th scope=col>variance</th><th scope=col>standard_deviation</th></tr></thead>\n",
       "<tbody>\n",
       "\t<tr><td>6        </td><td>7.044534 </td><td> 1.091052</td><td>6173.53  </td><td>741      </td><td>8.342609 </td><td>2.888357 </td></tr>\n",
       "\t<tr><td>3        </td><td>7.044534 </td><td>16.358259</td><td>6173.53  </td><td>741      </td><td>8.342609 </td><td>2.888357 </td></tr>\n",
       "\t<tr><td>4        </td><td>7.044534 </td><td> 9.269190</td><td>6173.53  </td><td>741      </td><td>8.342609 </td><td>2.888357 </td></tr>\n",
       "</tbody>\n",
       "</table>\n"
      ],
      "text/latex": [
       "\\begin{tabular}{r|lllllll}\n",
       " educ & educ\\_mean & deviation & xi\\_sum & n & variance & standard\\_deviation\\\\\n",
       "\\hline\n",
       "\t 6         & 7.044534  &  1.091052 & 6173.53   & 741       & 8.342609  & 2.888357 \\\\\n",
       "\t 3         & 7.044534  & 16.358259 & 6173.53   & 741       & 8.342609  & 2.888357 \\\\\n",
       "\t 4         & 7.044534  &  9.269190 & 6173.53   & 741       & 8.342609  & 2.888357 \\\\\n",
       "\\end{tabular}\n"
      ],
      "text/markdown": [
       "\n",
       "| educ | educ_mean | deviation | xi_sum | n | variance | standard_deviation |\n",
       "|---|---|---|---|---|---|---|\n",
       "| 6         | 7.044534  |  1.091052 | 6173.53   | 741       | 8.342609  | 2.888357  |\n",
       "| 3         | 7.044534  | 16.358259 | 6173.53   | 741       | 8.342609  | 2.888357  |\n",
       "| 4         | 7.044534  |  9.269190 | 6173.53   | 741       | 8.342609  | 2.888357  |\n",
       "\n"
      ],
      "text/plain": [
       "  educ educ_mean deviation xi_sum  n   variance standard_deviation\n",
       "1 6    7.044534   1.091052 6173.53 741 8.342609 2.888357          \n",
       "2 3    7.044534  16.358259 6173.53 741 8.342609 2.888357          \n",
       "3 4    7.044534   9.269190 6173.53 741 8.342609 2.888357          "
      ]
     },
     "metadata": {},
     "output_type": "display_data"
    }
   ],
   "source": [
    "df_ed$standard_deviation = sqrt(df_ed$variance)\n",
    "df_ed  %>% head(3)"
   ]
  },
  {
   "cell_type": "markdown",
   "metadata": {},
   "source": [
    "### 1.1.6 Calculate standard error"
   ]
  },
  {
   "cell_type": "code",
   "execution_count": 10,
   "metadata": {},
   "outputs": [
    {
     "data": {
      "text/html": [
       "<table>\n",
       "<thead><tr><th scope=col>educ</th><th scope=col>educ_mean</th><th scope=col>deviation</th><th scope=col>xi_sum</th><th scope=col>n</th><th scope=col>variance</th><th scope=col>standard_deviation</th><th scope=col>standard_error</th></tr></thead>\n",
       "<tbody>\n",
       "\t<tr><td>6        </td><td>7.044534 </td><td> 1.091052</td><td>6173.53  </td><td>741      </td><td>8.342609 </td><td>2.888357 </td><td>0.1061065</td></tr>\n",
       "\t<tr><td>3        </td><td>7.044534 </td><td>16.358259</td><td>6173.53  </td><td>741      </td><td>8.342609 </td><td>2.888357 </td><td>0.1061065</td></tr>\n",
       "\t<tr><td>4        </td><td>7.044534 </td><td> 9.269190</td><td>6173.53  </td><td>741      </td><td>8.342609 </td><td>2.888357 </td><td>0.1061065</td></tr>\n",
       "</tbody>\n",
       "</table>\n"
      ],
      "text/latex": [
       "\\begin{tabular}{r|llllllll}\n",
       " educ & educ\\_mean & deviation & xi\\_sum & n & variance & standard\\_deviation & standard\\_error\\\\\n",
       "\\hline\n",
       "\t 6         & 7.044534  &  1.091052 & 6173.53   & 741       & 8.342609  & 2.888357  & 0.1061065\\\\\n",
       "\t 3         & 7.044534  & 16.358259 & 6173.53   & 741       & 8.342609  & 2.888357  & 0.1061065\\\\\n",
       "\t 4         & 7.044534  &  9.269190 & 6173.53   & 741       & 8.342609  & 2.888357  & 0.1061065\\\\\n",
       "\\end{tabular}\n"
      ],
      "text/markdown": [
       "\n",
       "| educ | educ_mean | deviation | xi_sum | n | variance | standard_deviation | standard_error |\n",
       "|---|---|---|---|---|---|---|---|\n",
       "| 6         | 7.044534  |  1.091052 | 6173.53   | 741       | 8.342609  | 2.888357  | 0.1061065 |\n",
       "| 3         | 7.044534  | 16.358259 | 6173.53   | 741       | 8.342609  | 2.888357  | 0.1061065 |\n",
       "| 4         | 7.044534  |  9.269190 | 6173.53   | 741       | 8.342609  | 2.888357  | 0.1061065 |\n",
       "\n"
      ],
      "text/plain": [
       "  educ educ_mean deviation xi_sum  n   variance standard_deviation\n",
       "1 6    7.044534   1.091052 6173.53 741 8.342609 2.888357          \n",
       "2 3    7.044534  16.358259 6173.53 741 8.342609 2.888357          \n",
       "3 4    7.044534   9.269190 6173.53 741 8.342609 2.888357          \n",
       "  standard_error\n",
       "1 0.1061065     \n",
       "2 0.1061065     \n",
       "3 0.1061065     "
      ]
     },
     "metadata": {},
     "output_type": "display_data"
    }
   ],
   "source": [
    "df_ed$standard_error = df_ed$standard_deviation/sqrt(length(df_ed$standard_deviation))\n",
    "df_ed  %>% head(3)"
   ]
  },
  {
   "cell_type": "markdown",
   "metadata": {},
   "source": [
    "### 1.1.7 Check answer\n"
   ]
  },
  {
   "cell_type": "code",
   "execution_count": 11,
   "metadata": {},
   "outputs": [
    {
     "data": {
      "text/html": [
       "741"
      ],
      "text/latex": [
       "741"
      ],
      "text/markdown": [
       "741"
      ],
      "text/plain": [
       "[1] 741"
      ]
     },
     "metadata": {},
     "output_type": "display_data"
    },
    {
     "data": {
      "text/html": [
       "8.34260860050334"
      ],
      "text/latex": [
       "8.34260860050334"
      ],
      "text/markdown": [
       "8.34260860050334"
      ],
      "text/plain": [
       "[1] 8.342609"
      ]
     },
     "metadata": {},
     "output_type": "display_data"
    },
    {
     "data": {
      "text/html": [
       "2.88835742256794"
      ],
      "text/latex": [
       "2.88835742256794"
      ],
      "text/markdown": [
       "2.88835742256794"
      ],
      "text/plain": [
       "[1] 2.888357"
      ]
     },
     "metadata": {},
     "output_type": "display_data"
    }
   ],
   "source": [
    "length(df_ed$educ)\n",
    "\n",
    "var(df_ed$educ)\n",
    "\n",
    "sd(df_ed$educ)"
   ]
  },
  {
   "cell_type": "markdown",
   "metadata": {},
   "source": [
    "## 1.2. Confidence interval\n",
    "\n",
    "$$\\bar{x} \\pm t\\frac{s}{\\sqrt{n}}$$\n",
    "\n",
    "- `PS3 corresponding problem: 1.a`\n"
   ]
  },
  {
   "cell_type": "markdown",
   "metadata": {},
   "source": [
    "### 1.2.1 Find t-score"
   ]
  },
  {
   "cell_type": "code",
   "execution_count": 12,
   "metadata": {},
   "outputs": [
    {
     "data": {
      "text/html": [
       "1.96317491709263"
      ],
      "text/latex": [
       "1.96317491709263"
      ],
      "text/markdown": [
       "1.96317491709263"
      ],
      "text/plain": [
       "[1] 1.963175"
      ]
     },
     "metadata": {},
     "output_type": "display_data"
    }
   ],
   "source": [
    "tscore = qt(0.975, df=length(df$edu)-1) #t score\n",
    "tscore"
   ]
  },
  {
   "cell_type": "markdown",
   "metadata": {},
   "source": [
    "### 1.2.2 Confidence intervals"
   ]
  },
  {
   "cell_type": "code",
   "execution_count": 13,
   "metadata": {},
   "outputs": [
    {
     "data": {
      "text/html": [
       "0.106106461194839"
      ],
      "text/latex": [
       "0.106106461194839"
      ],
      "text/markdown": [
       "0.106106461194839"
      ],
      "text/plain": [
       "[1] 0.1061065"
      ]
     },
     "metadata": {},
     "output_type": "display_data"
    }
   ],
   "source": [
    "std_error = df_ed$standard_error[1]\n",
    "std_error"
   ]
  },
  {
   "cell_type": "code",
   "execution_count": 14,
   "metadata": {},
   "outputs": [],
   "source": [
    "confidence_int = tscore*std_error"
   ]
  },
  {
   "cell_type": "code",
   "execution_count": 15,
   "metadata": {},
   "outputs": [
    {
     "data": {
      "text/html": [
       "7.04453441295547"
      ],
      "text/latex": [
       "7.04453441295547"
      ],
      "text/markdown": [
       "7.04453441295547"
      ],
      "text/plain": [
       "[1] 7.044534"
      ]
     },
     "metadata": {},
     "output_type": "display_data"
    }
   ],
   "source": [
    "x_mean = mean(df$edu)\n",
    "x_mean"
   ]
  },
  {
   "cell_type": "code",
   "execution_count": 16,
   "metadata": {},
   "outputs": [
    {
     "data": {
      "text/html": [
       "6.83622886979629"
      ],
      "text/latex": [
       "6.83622886979629"
      ],
      "text/markdown": [
       "6.83622886979629"
      ],
      "text/plain": [
       "[1] 6.836229"
      ]
     },
     "metadata": {},
     "output_type": "display_data"
    }
   ],
   "source": [
    "x_mean-confidence_int"
   ]
  },
  {
   "cell_type": "code",
   "execution_count": 17,
   "metadata": {},
   "outputs": [
    {
     "data": {
      "text/html": [
       "7.25283995611464"
      ],
      "text/latex": [
       "7.25283995611464"
      ],
      "text/markdown": [
       "7.25283995611464"
      ],
      "text/plain": [
       "[1] 7.25284"
      ]
     },
     "metadata": {},
     "output_type": "display_data"
    }
   ],
   "source": [
    "x_mean+confidence_int"
   ]
  },
  {
   "cell_type": "markdown",
   "metadata": {},
   "source": [
    "# 2. T-test: means\n",
    "- `PS3 corresponding problem: 1.b & 1.c`\n"
   ]
  },
  {
   "cell_type": "code",
   "execution_count": 18,
   "metadata": {},
   "outputs": [
    {
     "data": {
      "text/html": [
       "<table>\n",
       "<thead><tr><th></th><th scope=col>mpg</th><th scope=col>cyl</th><th scope=col>disp</th><th scope=col>hp</th><th scope=col>drat</th><th scope=col>wt</th><th scope=col>qsec</th><th scope=col>vs</th><th scope=col>am</th><th scope=col>gear</th><th scope=col>carb</th></tr></thead>\n",
       "<tbody>\n",
       "\t<tr><th scope=row>Mazda RX4</th><td>21.0 </td><td>6    </td><td>160  </td><td>110  </td><td>3.90 </td><td>2.620</td><td>16.46</td><td>0    </td><td>1    </td><td>4    </td><td>4    </td></tr>\n",
       "\t<tr><th scope=row>Mazda RX4 Wag</th><td>21.0 </td><td>6    </td><td>160  </td><td>110  </td><td>3.90 </td><td>2.875</td><td>17.02</td><td>0    </td><td>1    </td><td>4    </td><td>4    </td></tr>\n",
       "\t<tr><th scope=row>Datsun 710</th><td>22.8 </td><td>4    </td><td>108  </td><td> 93  </td><td>3.85 </td><td>2.320</td><td>18.61</td><td>1    </td><td>1    </td><td>4    </td><td>1    </td></tr>\n",
       "</tbody>\n",
       "</table>\n"
      ],
      "text/latex": [
       "\\begin{tabular}{r|lllllllllll}\n",
       "  & mpg & cyl & disp & hp & drat & wt & qsec & vs & am & gear & carb\\\\\n",
       "\\hline\n",
       "\tMazda RX4 & 21.0  & 6     & 160   & 110   & 3.90  & 2.620 & 16.46 & 0     & 1     & 4     & 4    \\\\\n",
       "\tMazda RX4 Wag & 21.0  & 6     & 160   & 110   & 3.90  & 2.875 & 17.02 & 0     & 1     & 4     & 4    \\\\\n",
       "\tDatsun 710 & 22.8  & 4     & 108   &  93   & 3.85  & 2.320 & 18.61 & 1     & 1     & 4     & 1    \\\\\n",
       "\\end{tabular}\n"
      ],
      "text/markdown": [
       "\n",
       "| <!--/--> | mpg | cyl | disp | hp | drat | wt | qsec | vs | am | gear | carb |\n",
       "|---|---|---|---|---|---|---|---|---|---|---|---|\n",
       "| Mazda RX4 | 21.0  | 6     | 160   | 110   | 3.90  | 2.620 | 16.46 | 0     | 1     | 4     | 4     |\n",
       "| Mazda RX4 Wag | 21.0  | 6     | 160   | 110   | 3.90  | 2.875 | 17.02 | 0     | 1     | 4     | 4     |\n",
       "| Datsun 710 | 22.8  | 4     | 108   |  93   | 3.85  | 2.320 | 18.61 | 1     | 1     | 4     | 1     |\n",
       "\n"
      ],
      "text/plain": [
       "              mpg  cyl disp hp  drat wt    qsec  vs am gear carb\n",
       "Mazda RX4     21.0 6   160  110 3.90 2.620 16.46 0  1  4    4   \n",
       "Mazda RX4 Wag 21.0 6   160  110 3.90 2.875 17.02 0  1  4    4   \n",
       "Datsun 710    22.8 4   108   93 3.85 2.320 18.61 1  1  4    1   "
      ]
     },
     "metadata": {},
     "output_type": "display_data"
    }
   ],
   "source": [
    "mtcars = mtcars\n",
    "mtcars %>% head(3)"
   ]
  },
  {
   "cell_type": "code",
   "execution_count": 19,
   "metadata": {},
   "outputs": [
    {
     "data": {
      "text/plain": [
       "\n",
       "\tOne Sample t-test\n",
       "\n",
       "data:  mtcars$mpg\n",
       "t = 4.778, df = 31, p-value = 4.054e-05\n",
       "alternative hypothesis: true mean is not equal to 15\n",
       "95 percent confidence interval:\n",
       " 17.91768 22.26357\n",
       "sample estimates:\n",
       "mean of x \n",
       " 20.09062 \n"
      ]
     },
     "metadata": {},
     "output_type": "display_data"
    }
   ],
   "source": [
    "t.test(mtcars$mpg, mu=15)"
   ]
  },
  {
   "cell_type": "markdown",
   "metadata": {},
   "source": [
    "# 3.  T-test: 2-sided\n",
    "- `PS3 corresponding problem: 1.d`\n"
   ]
  },
  {
   "cell_type": "markdown",
   "metadata": {},
   "source": [
    "## 3.1 Compare mean weight of cars with automatic and manual"
   ]
  },
  {
   "cell_type": "markdown",
   "metadata": {},
   "source": [
    "### 3.1.1 filter weight values for automatic cars"
   ]
  },
  {
   "cell_type": "code",
   "execution_count": 20,
   "metadata": {},
   "outputs": [],
   "source": [
    "wt_automatic = mtcars %>% \n",
    "filter(am==1) %>% \n",
    "select(wt) "
   ]
  },
  {
   "cell_type": "code",
   "execution_count": 21,
   "metadata": {},
   "outputs": [
    {
     "data": {
      "text/html": [
       "<table>\n",
       "<thead><tr><th scope=col>wt</th></tr></thead>\n",
       "<tbody>\n",
       "\t<tr><td>2.620</td></tr>\n",
       "\t<tr><td>2.875</td></tr>\n",
       "</tbody>\n",
       "</table>\n"
      ],
      "text/latex": [
       "\\begin{tabular}{r|l}\n",
       " wt\\\\\n",
       "\\hline\n",
       "\t 2.620\\\\\n",
       "\t 2.875\\\\\n",
       "\\end{tabular}\n"
      ],
      "text/markdown": [
       "\n",
       "| wt |\n",
       "|---|\n",
       "| 2.620 |\n",
       "| 2.875 |\n",
       "\n"
      ],
      "text/plain": [
       "  wt   \n",
       "1 2.620\n",
       "2 2.875"
      ]
     },
     "metadata": {},
     "output_type": "display_data"
    }
   ],
   "source": [
    "wt_automatic %>% head(2)"
   ]
  },
  {
   "cell_type": "markdown",
   "metadata": {},
   "source": [
    "### 3.1.2 filter weight values for automatic cars"
   ]
  },
  {
   "cell_type": "code",
   "execution_count": 22,
   "metadata": {},
   "outputs": [],
   "source": [
    "wt_manual = mtcars %>% \n",
    "filter(am==0) %>% \n",
    "select(wt) "
   ]
  },
  {
   "cell_type": "code",
   "execution_count": 23,
   "metadata": {},
   "outputs": [
    {
     "data": {
      "text/html": [
       "<table>\n",
       "<thead><tr><th scope=col>wt</th></tr></thead>\n",
       "<tbody>\n",
       "\t<tr><td>3.215</td></tr>\n",
       "\t<tr><td>3.440</td></tr>\n",
       "</tbody>\n",
       "</table>\n"
      ],
      "text/latex": [
       "\\begin{tabular}{r|l}\n",
       " wt\\\\\n",
       "\\hline\n",
       "\t 3.215\\\\\n",
       "\t 3.440\\\\\n",
       "\\end{tabular}\n"
      ],
      "text/markdown": [
       "\n",
       "| wt |\n",
       "|---|\n",
       "| 3.215 |\n",
       "| 3.440 |\n",
       "\n"
      ],
      "text/plain": [
       "  wt   \n",
       "1 3.215\n",
       "2 3.440"
      ]
     },
     "metadata": {},
     "output_type": "display_data"
    }
   ],
   "source": [
    "wt_manual %>% head(2)"
   ]
  },
  {
   "cell_type": "markdown",
   "metadata": {},
   "source": [
    "### 3.1.3 Use \"t.test()\" function"
   ]
  },
  {
   "cell_type": "code",
   "execution_count": 24,
   "metadata": {},
   "outputs": [
    {
     "data": {
      "text/plain": [
       "\n",
       "\tWelch Two Sample t-test\n",
       "\n",
       "data:  wt_automatic and wt_manual\n",
       "t = -5.4939, df = 29.234, p-value = 6.272e-06\n",
       "alternative hypothesis: true difference in means is not equal to 0\n",
       "95 percent confidence interval:\n",
       " -1.8632262 -0.8525632\n",
       "sample estimates:\n",
       "mean of x mean of y \n",
       " 2.411000  3.768895 \n"
      ]
     },
     "metadata": {},
     "output_type": "display_data"
    }
   ],
   "source": [
    "test_solution = t.test(wt_automatic, wt_manual)\n",
    "test_solution"
   ]
  },
  {
   "cell_type": "markdown",
   "metadata": {},
   "source": [
    "### 3.1.4 Extract p-value from solution "
   ]
  },
  {
   "cell_type": "code",
   "execution_count": 25,
   "metadata": {},
   "outputs": [
    {
     "data": {
      "text/html": [
       "6.27201991008014e-06"
      ],
      "text/latex": [
       "6.27201991008014e-06"
      ],
      "text/markdown": [
       "6.27201991008014e-06"
      ],
      "text/plain": [
       "[1] 6.27202e-06"
      ]
     },
     "metadata": {},
     "output_type": "display_data"
    }
   ],
   "source": [
    "pvalue = test_solution$p.value \n",
    "pvalue "
   ]
  },
  {
   "cell_type": "code",
   "execution_count": 26,
   "metadata": {},
   "outputs": [
    {
     "name": "stdout",
     "output_type": "stream",
     "text": [
      "[1] \"Reject the null\"\n",
      "[1] \"Evidence that the means are statisticaly different\"\n"
     ]
    }
   ],
   "source": [
    "if (pvalue <.05){\n",
    "    print('Reject the null')\n",
    "    print('Evidence that the means are statisticaly different')   \n",
    "}\n",
    "if(pvalue >.05){\n",
    "    print('Fail to reject null')\n",
    "    print('No evidence that means are statisticaly different')   \n",
    "}\n"
   ]
  },
  {
   "cell_type": "markdown",
   "metadata": {},
   "source": [
    "# 4. T-test 1-sided\n",
    "- `PS3 corresponding problem: 1.f`\n"
   ]
  },
  {
   "cell_type": "code",
   "execution_count": 27,
   "metadata": {},
   "outputs": [
    {
     "data": {
      "text/plain": [
       "\n",
       "\tWelch Two Sample t-test\n",
       "\n",
       "data:  wt_automatic and wt_manual\n",
       "t = -5.4939, df = 29.234, p-value = 3.136e-06\n",
       "alternative hypothesis: true difference in means is less than 0\n",
       "95 percent confidence interval:\n",
       "       -Inf -0.9380426\n",
       "sample estimates:\n",
       "mean of x mean of y \n",
       " 2.411000  3.768895 \n"
      ]
     },
     "metadata": {},
     "output_type": "display_data"
    }
   ],
   "source": [
    "t.test(wt_automatic, wt_manual, alternative='less')"
   ]
  },
  {
   "cell_type": "code",
   "execution_count": 28,
   "metadata": {},
   "outputs": [
    {
     "data": {
      "text/plain": [
       "\n",
       "\tWelch Two Sample t-test\n",
       "\n",
       "data:  wt_automatic and wt_manual\n",
       "t = -5.4939, df = 29.234, p-value = 1\n",
       "alternative hypothesis: true difference in means is greater than 0\n",
       "95 percent confidence interval:\n",
       " -1.777747       Inf\n",
       "sample estimates:\n",
       "mean of x mean of y \n",
       " 2.411000  3.768895 \n"
      ]
     },
     "metadata": {},
     "output_type": "display_data"
    }
   ],
   "source": [
    "t.test(wt_automatic, wt_manual, alternative='greater')"
   ]
  },
  {
   "cell_type": "markdown",
   "metadata": {},
   "source": [
    "# 5. Functions"
   ]
  },
  {
   "cell_type": "markdown",
   "metadata": {},
   "source": [
    "## 5.1 Basic function"
   ]
  },
  {
   "cell_type": "code",
   "execution_count": 29,
   "metadata": {},
   "outputs": [],
   "source": [
    "first_function = function(a,b){\n",
    "    answer = a+b\n",
    "    return (answer)\n",
    "}"
   ]
  },
  {
   "cell_type": "code",
   "execution_count": 30,
   "metadata": {},
   "outputs": [
    {
     "data": {
      "text/html": [
       "5"
      ],
      "text/latex": [
       "5"
      ],
      "text/markdown": [
       "5"
      ],
      "text/plain": [
       "[1] 5"
      ]
     },
     "metadata": {},
     "output_type": "display_data"
    }
   ],
   "source": [
    "first_function(2,3)"
   ]
  },
  {
   "cell_type": "markdown",
   "metadata": {},
   "source": [
    "## 5.2 Intermediate function"
   ]
  },
  {
   "cell_type": "code",
   "execution_count": 31,
   "metadata": {},
   "outputs": [],
   "source": [
    "sum_column = function(column){\n",
    "    answer = sum(column)\n",
    "    return (answer)\n",
    "}"
   ]
  },
  {
   "cell_type": "code",
   "execution_count": 32,
   "metadata": {},
   "outputs": [
    {
     "data": {
      "text/html": [
       "15493"
      ],
      "text/latex": [
       "15493"
      ],
      "text/markdown": [
       "15493"
      ],
      "text/plain": [
       "[1] 15493"
      ]
     },
     "metadata": {},
     "output_type": "display_data"
    }
   ],
   "source": [
    "sum_column(df$age)"
   ]
  },
  {
   "cell_type": "markdown",
   "metadata": {},
   "source": [
    "### 5.2.1 Intermediate function continued"
   ]
  },
  {
   "cell_type": "code",
   "execution_count": 33,
   "metadata": {},
   "outputs": [],
   "source": [
    "summary_stats = function(column){\n",
    "    sum = sum(column)\n",
    "    mean = mean(column)\n",
    "    std = sd(column)\n",
    "    print(paste('Sum:', sum))\n",
    "    print(paste('Mean:', mean))\n",
    "    print(paste('STD:', std))\n",
    "}"
   ]
  },
  {
   "cell_type": "code",
   "execution_count": 34,
   "metadata": {},
   "outputs": [
    {
     "name": "stdout",
     "output_type": "stream",
     "text": [
      "[1] \"Sum: 15493\"\n",
      "[1] \"Mean: 20.9082321187584\"\n",
      "[1] \"STD: 5.00564003306697\"\n"
     ]
    }
   ],
   "source": [
    "summary_stats(df$age)"
   ]
  },
  {
   "cell_type": "markdown",
   "metadata": {},
   "source": [
    "## 5.3 Standard error function\n",
    "\n",
    "$$\\hat{\\sigma}=\\sqrt{\\frac{1}{N-1}\\sum_{i=1}^{N} (X_{i} -\\bar{X})^2}$$\n"
   ]
  },
  {
   "cell_type": "code",
   "execution_count": 35,
   "metadata": {},
   "outputs": [],
   "source": [
    "std_error = function(column){   \n",
    "   \n",
    "    n = length(column)-1 #length    \n",
    "    \n",
    "    sum_diff = sum((column-mean(column))^2) #variance\n",
    "    \n",
    "    sd = sqrt(sum_diff/n) #Sd calculation\n",
    "    \n",
    "    standard_error = sd/sqrt(n)\n",
    "    return (standard_error)\n",
    "    \n",
    "}"
   ]
  },
  {
   "cell_type": "markdown",
   "metadata": {},
   "source": [
    "### 5.3.1 Plug in data to function"
   ]
  },
  {
   "cell_type": "code",
   "execution_count": 36,
   "metadata": {},
   "outputs": [
    {
     "data": {
      "text/html": [
       "0.106178130545257"
      ],
      "text/latex": [
       "0.106178130545257"
      ],
      "text/markdown": [
       "0.106178130545257"
      ],
      "text/plain": [
       "[1] 0.1061781"
      ]
     },
     "metadata": {},
     "output_type": "display_data"
    }
   ],
   "source": [
    "std_error(df$edu)"
   ]
  },
  {
   "cell_type": "markdown",
   "metadata": {},
   "source": [
    "### 5.3.2 Check answer"
   ]
  },
  {
   "cell_type": "code",
   "execution_count": 37,
   "metadata": {},
   "outputs": [
    {
     "data": {
      "text/html": [
       "0.106106461194839"
      ],
      "text/latex": [
       "0.106106461194839"
      ],
      "text/markdown": [
       "0.106106461194839"
      ],
      "text/plain": [
       "[1] 0.1061065"
      ]
     },
     "metadata": {},
     "output_type": "display_data"
    }
   ],
   "source": [
    "sd(df$edu)/sqrt(length(df$edu))"
   ]
  },
  {
   "cell_type": "markdown",
   "metadata": {},
   "source": [
    "## 5.4 Confidience interval function"
   ]
  },
  {
   "cell_type": "code",
   "execution_count": 38,
   "metadata": {},
   "outputs": [],
   "source": [
    "confidence_interval = function(column, confidence_int){   \n",
    "   \n",
    "    n = length(column)-1 #length    \n",
    "    \n",
    "    sum_diff = sum((column-mean(column))^2) #variance\n",
    "    \n",
    "    sd = sqrt(sum_diff/n) #Sd calculation\n",
    "    \n",
    "    standard_error = sd/sqrt(n)\n",
    "    \n",
    "    ############################################################################################\n",
    "    t = qt(confidence_int, length(column)-1) #t score   \n",
    "    \n",
    "    solu = t*standard_error\n",
    "    \n",
    "    x_mean = round(mean(column),3) #rounds to 6 digits\n",
    "    \n",
    "    conf_lower = round(x_mean-solu,6)\n",
    "    conf_upper = round(x_mean+solu,6)\n",
    "    \n",
    "    print(paste('Mean:', x_mean,'+-', round(solu,3), sep=''))\n",
    "    print(paste('Upper bound: ', conf_upper, ' Lower bound: ', conf_lower, sep=''))\n",
    "}"
   ]
  },
  {
   "cell_type": "code",
   "execution_count": 39,
   "metadata": {},
   "outputs": [
    {
     "name": "stdout",
     "output_type": "stream",
     "text": [
      "[1] \"Mean:7.045+-0.175\"\n",
      "[1] \"Upper bound: 7.219866 Lower bound: 6.870134\"\n"
     ]
    }
   ],
   "source": [
    "confidence_interval(df$edu, .95)"
   ]
  }
 ],
 "metadata": {
  "kernelspec": {
   "display_name": "R",
   "language": "R",
   "name": "ir"
  },
  "language_info": {
   "codemirror_mode": "r",
   "file_extension": ".r",
   "mimetype": "text/x-r-source",
   "name": "R",
   "pygments_lexer": "r",
   "version": "3.6.1"
  }
 },
 "nbformat": 4,
 "nbformat_minor": 4
}
