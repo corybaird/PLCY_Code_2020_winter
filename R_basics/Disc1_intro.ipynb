{
 "cells": [
  {
   "cell_type": "markdown",
   "metadata": {},
   "source": [
    "# A.1 Working with data in R\n",
    "\n",
    "### A.1.1 What are the other advantages of using R?\n",
    "- We can be lazy and use the thousands of free libraries to easily:\n",
    "    - Easily manipulate data (Today's topic)\n",
    "    - Download data directly from the internet\n",
    "    - Viusualize our data (graphing etc.)\n",
    "    - Build models (Regression, Machine learning, Neural Networks)\n",
    "    \n",
    "    \n",
    "- You have all used libraries before, perhaps without knowing it!\n",
    "    - This is done in R in two steps: \n",
    "        1. install.packages(\"Package name\") Downloads package\n",
    "        2. library(Package name) Imports package\n",
    "\n",
    "### A.1.2 What is a Data Frame? \n",
    "- Think of it as an excel sheet with data\n",
    "- In many cases:\n",
    "    - Rows are observations (e.g. people, households, countries, time)\n",
    "    - Columns are variables (e.g. GDP, life expectancy)\n",
    "        \n",
    "\n",
    "\n",
    "### A.1.3 What applications can I use to run R?\n",
    "R is not a software, it is a coding language! So there are multiple applications which can run R in\n",
    "\n",
    "### A.1.3.1 For our class we will use r-studio in the cloud!\n",
    "- Many students get frustrated because there are sometimes bugs which prevent the software from running smoothly\n",
    "- R-studio cloud takes the hassle out of the setup of r-studio and allows for us to focus on learning R!\n",
    "\n",
    "\n",
    "# !!!!!!!!!!!!!!!!!IMPORTANT NOTE FOR STUDENTS in A.1.3.2!!!!!!!!!!!!!!!!!\n",
    "### A.1.3.2 We will share you a link on ELMS with a link to the r-studio course you can register for rstudio cloud and will be added to the class online cloud \n",
    "\n",
    "\n",
    "\n",
    "### Reference: For our class you must register for an r-studio cloud account!\n",
    "- However for your reference here are others software options to run R\n",
    "\n",
    "#### For those who still want to download r-studio on their computers here is the [link]((https://rstudio.com/products/rstudio/download/))\n",
    "\n",
    "#### For those who want to use r in Jupyter notebook (what this tutorial is written in).\n",
    "\n",
    "- Like R-studio Jupyter can be either run on your computer or the cloud:\n",
    "- [Computer download: Anaconda software](https://www.anaconda.com/)\n",
    "- Cloud services\n",
    "    - [R-studio cloud](https://rstudio.cloud/)\n",
    "    - [Azure cloud](https://notebooks.azure.com/)\n",
    "        "
   ]
  },
  {
   "cell_type": "markdown",
   "metadata": {},
   "source": [
    "# B. How to use R-studio cloud\n",
    "\n",
    "## B.1 After you sign up for an account and are added to the class this is what your R-studio cloud should look like"
   ]
  },
  {
   "cell_type": "markdown",
   "metadata": {},
   "source": [
    "![title](Images/Cloud_step_1.png)"
   ]
  },
  {
   "cell_type": "markdown",
   "metadata": {},
   "source": [
    "## B.2 Click the start button to launch your own version of the assignment\n",
    "- Note: You can make as many changes to these files as you want! \n",
    "    - Changes won't change the master file for other studnets\n",
    "\n",
    "![title](Images/Cloud_step_2.png)"
   ]
  },
  {
   "cell_type": "markdown",
   "metadata": {},
   "source": [
    "## B.3 You can return to the assignment at a later time with your code saved\n",
    "\n",
    "![title](Images/Cloud_step_3.png)"
   ]
  },
  {
   "cell_type": "markdown",
   "metadata": {},
   "source": [
    "## B.4 If you have a problem with your code then I can go into your files directly and check what is wrong\n",
    "- Note: Other students will not be able to see your work. Only the TAs\n",
    "\n",
    "![title](Images/Cloud_step_4.png)"
   ]
  },
  {
   "cell_type": "markdown",
   "metadata": {},
   "source": [
    "# R-studio. The very basics\n",
    "- Note this tutorial is not written in R-studio\n",
    "    - The r-studio code can be found in the same folder labeled Basic.r\n",
    "\n",
    "\n",
    "#### Starting R: Create new project and the screen below should show up"
   ]
  },
  {
   "cell_type": "markdown",
   "metadata": {},
   "source": [
    "## R.1 Launching R-studio\n",
    "- Always click the button to write code in an r file.\n",
    "- This will allow you to save your work\n",
    "- For those of you familiar with Stata it is similar to a do-file\n",
    "\n",
    "\n",
    "\n",
    "![title](Images/R_studio_1.png)"
   ]
  },
  {
   "cell_type": "markdown",
   "metadata": {},
   "source": [
    "## R.2 Running code\n",
    "- The code you run in the top will display below in the console\n",
    "- You run the code by highlighting it and clicking the run button\n",
    "    - The shortcut on mac is <kbd>Cmd</kbd>+<kbd>Return</kbd>\n",
    "\n",
    "\n",
    "![title](Images/R_studio_2.png)"
   ]
  },
  {
   "cell_type": "markdown",
   "metadata": {},
   "source": [
    "## R.3 Writing comments\n"
   ]
  },
  {
   "cell_type": "code",
   "execution_count": 1,
   "metadata": {},
   "outputs": [
    {
     "name": "stdout",
     "output_type": "stream",
     "text": [
      "[1] \"The commented code will display in the console but will not be read as code\"\n"
     ]
    }
   ],
   "source": [
    "#You can write comments by using the hashtag\n",
    "#Commented code will not be written\n",
    "\n",
    "print('The commented code will display in the console but will not be read as code')"
   ]
  },
  {
   "cell_type": "markdown",
   "metadata": {},
   "source": [
    "# 1. How to save data\n"
   ]
  },
  {
   "cell_type": "markdown",
   "metadata": {},
   "source": [
    "## 1.1 Saving text (a.k.a. string objects)\n",
    "\n",
    "- When creating any new object in R it cannot contain spaces\n",
    "- When you save a new object it will NOT display in the console!\n",
    "    - Instead it will display in the upper right section \"Environment\"\n",
    "\n",
    "![title](Images/R_studio_3.png)"
   ]
  },
  {
   "cell_type": "code",
   "execution_count": 2,
   "metadata": {},
   "outputs": [],
   "source": [
    "new_string = \"This is a string\""
   ]
  },
  {
   "cell_type": "markdown",
   "metadata": {},
   "source": [
    "### 1.1.1 Now print our object \"new_string\""
   ]
  },
  {
   "cell_type": "code",
   "execution_count": 3,
   "metadata": {},
   "outputs": [
    {
     "name": "stdout",
     "output_type": "stream",
     "text": [
      "[1] \"This is a string\"\n"
     ]
    }
   ],
   "source": [
    "#Use either print or simply type in the name of the object\n",
    "print(new_string)"
   ]
  },
  {
   "cell_type": "code",
   "execution_count": 4,
   "metadata": {},
   "outputs": [
    {
     "data": {
      "text/html": [
       "'This is a string'"
      ],
      "text/latex": [
       "'This is a string'"
      ],
      "text/markdown": [
       "'This is a string'"
      ],
      "text/plain": [
       "[1] \"This is a string\""
      ]
     },
     "metadata": {},
     "output_type": "display_data"
    }
   ],
   "source": [
    "new_string"
   ]
  },
  {
   "cell_type": "markdown",
   "metadata": {},
   "source": [
    "# 2. Import (save) excel data\n",
    "\n",
    "- The data should be in the same folder as you r-studio project\n",
    "    - Check the lower right coroner to see if a csv file is in the same folder\n",
    "- You can also import from other folders which we will discuss below\n",
    "\n",
    "![title](Images/R_studio_4.png)"
   ]
  },
  {
   "cell_type": "markdown",
   "metadata": {},
   "source": [
    "## 2.1 Read csv file\n",
    "- We will create a new object like we did for our string!\n",
    "- Remember that the object can be named anything you like as long as it does not have spaces!\n",
    "- The df means dataframe and is often used in R\n",
    "- The import will be succesfull if you can see a new object in the upper right environment panel\n",
    "\n",
    "Common mistake to avoid:\n",
    "- The name of the file must be in quotes and must have a .csv extension\n",
    "\n",
    "`Function:` read.csv(\"NAMEOFFILE.csv\")"
   ]
  },
  {
   "cell_type": "code",
   "execution_count": 5,
   "metadata": {},
   "outputs": [],
   "source": [
    "df = read.csv('vote.csv')"
   ]
  },
  {
   "cell_type": "markdown",
   "metadata": {},
   "source": [
    "### 2.1.1 Common mistake\n",
    "- If you do not set the name of the object it will read the file but not save!"
   ]
  },
  {
   "cell_type": "code",
   "execution_count": 7,
   "metadata": {},
   "outputs": [],
   "source": [
    "#Notice there is no = sign as we have in 2.1\n",
    "read.csv('vote.csv')"
   ]
  },
  {
   "cell_type": "markdown",
   "metadata": {},
   "source": [
    "## 2.2 Read csv file in sub-folder\n",
    "- read.csv(\"FOLDER_NAME/FILE_NAME.csv\")\n",
    "    - In the example below we import \"arrests.csv\" from the \"Sub_folder\" folder"
   ]
  },
  {
   "cell_type": "code",
   "execution_count": 8,
   "metadata": {},
   "outputs": [],
   "source": [
    "df_arrests = read.csv(\"Sub_folder/arrests.csv\")"
   ]
  },
  {
   "cell_type": "markdown",
   "metadata": {},
   "source": [
    "# 3. Basics of the dataframe"
   ]
  },
  {
   "cell_type": "markdown",
   "metadata": {},
   "source": [
    "## 3.1 Display: first lines of the dataframe\n",
    "\n",
    "`Function:` head(DF_NAME, # of lines you want to display)"
   ]
  },
  {
   "cell_type": "code",
   "execution_count": 7,
   "metadata": {},
   "outputs": [
    {
     "data": {
      "text/html": [
       "<table>\n",
       "<thead><tr><th scope=col>state</th><th scope=col>vote</th><th scope=col>income</th><th scope=col>education</th><th scope=col>age</th><th scope=col>sex</th></tr></thead>\n",
       "<tbody>\n",
       "\t<tr><td>AR</td><td>1 </td><td> 9</td><td>2 </td><td>73</td><td>0 </td></tr>\n",
       "\t<tr><td>AR</td><td>1 </td><td>11</td><td>2 </td><td>24</td><td>0 </td></tr>\n",
       "\t<tr><td>AR</td><td>0 </td><td>12</td><td>2 </td><td>24</td><td>1 </td></tr>\n",
       "</tbody>\n",
       "</table>\n"
      ],
      "text/latex": [
       "\\begin{tabular}{r|llllll}\n",
       " state & vote & income & education & age & sex\\\\\n",
       "\\hline\n",
       "\t AR & 1  &  9 & 2  & 73 & 0 \\\\\n",
       "\t AR & 1  & 11 & 2  & 24 & 0 \\\\\n",
       "\t AR & 0  & 12 & 2  & 24 & 1 \\\\\n",
       "\\end{tabular}\n"
      ],
      "text/markdown": [
       "\n",
       "| state | vote | income | education | age | sex |\n",
       "|---|---|---|---|---|---|\n",
       "| AR | 1  |  9 | 2  | 73 | 0  |\n",
       "| AR | 1  | 11 | 2  | 24 | 0  |\n",
       "| AR | 0  | 12 | 2  | 24 | 1  |\n",
       "\n"
      ],
      "text/plain": [
       "  state vote income education age sex\n",
       "1 AR    1     9     2         73  0  \n",
       "2 AR    1    11     2         24  0  \n",
       "3 AR    0    12     2         24  1  "
      ]
     },
     "metadata": {},
     "output_type": "display_data"
    }
   ],
   "source": [
    "# Shows the first 3 lines\n",
    "head(df, 3)"
   ]
  },
  {
   "cell_type": "markdown",
   "metadata": {},
   "source": [
    "## 3.2 Display: column names\n",
    "\n",
    "`Function:` names(DF_NAME)"
   ]
  },
  {
   "cell_type": "code",
   "execution_count": 8,
   "metadata": {},
   "outputs": [
    {
     "data": {
      "text/html": [
       "<ol class=list-inline>\n",
       "\t<li>'state'</li>\n",
       "\t<li>'vote'</li>\n",
       "\t<li>'income'</li>\n",
       "\t<li>'education'</li>\n",
       "\t<li>'age'</li>\n",
       "\t<li>'sex'</li>\n",
       "</ol>\n"
      ],
      "text/latex": [
       "\\begin{enumerate*}\n",
       "\\item 'state'\n",
       "\\item 'vote'\n",
       "\\item 'income'\n",
       "\\item 'education'\n",
       "\\item 'age'\n",
       "\\item 'sex'\n",
       "\\end{enumerate*}\n"
      ],
      "text/markdown": [
       "1. 'state'\n",
       "2. 'vote'\n",
       "3. 'income'\n",
       "4. 'education'\n",
       "5. 'age'\n",
       "6. 'sex'\n",
       "\n",
       "\n"
      ],
      "text/plain": [
       "[1] \"state\"     \"vote\"      \"income\"    \"education\" \"age\"       \"sex\"      "
      ]
     },
     "metadata": {},
     "output_type": "display_data"
    }
   ],
   "source": [
    "names(df)"
   ]
  },
  {
   "cell_type": "markdown",
   "metadata": {},
   "source": [
    "## 3.3 Display: summary stats\n",
    "`Function:` summary(DF_NAME)"
   ]
  },
  {
   "cell_type": "code",
   "execution_count": 9,
   "metadata": {},
   "outputs": [
    {
     "data": {
      "text/plain": [
       " state          vote            income        education         age        \n",
       " AR: 501   Min.   :0.0000   Min.   : 4.00   Min.   :1.00   Min.   :  5.00  \n",
       " SC:1001   1st Qu.:1.0000   1st Qu.: 9.00   1st Qu.:2.00   1st Qu.: 36.00  \n",
       "           Median :1.0000   Median :13.00   Median :3.00   Median : 49.00  \n",
       "           Mean   :0.8555   Mean   :12.06   Mean   :2.65   Mean   : 49.28  \n",
       "           3rd Qu.:1.0000   3rd Qu.:16.00   3rd Qu.:4.00   3rd Qu.: 62.00  \n",
       "           Max.   :1.0000   Max.   :17.00   Max.   :4.00   Max.   :120.00  \n",
       "      sex        \n",
       " Min.   :0.0000  \n",
       " 1st Qu.:0.0000  \n",
       " Median :1.0000  \n",
       " Mean   :0.5593  \n",
       " 3rd Qu.:1.0000  \n",
       " Max.   :1.0000  "
      ]
     },
     "metadata": {},
     "output_type": "display_data"
    }
   ],
   "source": [
    "summary(df)"
   ]
  },
  {
   "cell_type": "markdown",
   "metadata": {},
   "source": [
    "# 4. Individual column manipulation\n",
    "- Select the dataframe column with a '$\\mathit{\\$}$'\n",
    "    - DATEFRAME$\\mathit{\\$}$COLUMNNAME\n",
    "    \n",
    "- Use the mean function to find average age\n",
    "\n",
    "`Function:` mean(DF_NAME$\\mathit{\\$}$Col_Name)\n",
    "\n",
    "`Function:` sd(DF_NAME$\\mathit{\\$}$Col_name)"
   ]
  },
  {
   "cell_type": "code",
   "execution_count": 10,
   "metadata": {},
   "outputs": [
    {
     "data": {
      "text/html": [
       "49.2789613848202"
      ],
      "text/latex": [
       "49.2789613848202"
      ],
      "text/markdown": [
       "49.2789613848202"
      ],
      "text/plain": [
       "[1] 49.27896"
      ]
     },
     "metadata": {},
     "output_type": "display_data"
    }
   ],
   "source": [
    "#Shows mean of age column\n",
    "mean(df$age)"
   ]
  },
  {
   "cell_type": "code",
   "execution_count": 11,
   "metadata": {},
   "outputs": [
    {
     "data": {
      "text/html": [
       "17.5918284581461"
      ],
      "text/latex": [
       "17.5918284581461"
      ],
      "text/markdown": [
       "17.5918284581461"
      ],
      "text/plain": [
       "[1] 17.59183"
      ]
     },
     "metadata": {},
     "output_type": "display_data"
    }
   ],
   "source": [
    "#Shows standard deviation of age column\n",
    "sd(df$age)"
   ]
  },
  {
   "cell_type": "markdown",
   "metadata": {},
   "source": [
    "# Review of functions used in Disc1_intro\n",
    "\n",
    "- `Function:` read.csv(\"NAMEOFFILE.csv\")\n",
    "    - Reads csv\n",
    "- `Function:` ls()\n",
    "    - Shows saved objects\n",
    "- `Function:` head(DF_NAME, # of lines you want to display)\n",
    "    - Show first lines of data frame\n",
    "- `Function:` names(DF_NAME)\n",
    "    - Shows column names\n",
    "- `Function:` summary(DF_NAME)\n",
    "    - Shows summary stats\n",
    "- `Function:` mean(DF_NAME$\\mathit{\\$}$Col_Name)\n",
    "    - Shows mean of certain column\n",
    "- `Function:` sd(DF_NAME$\\mathit{\\$}$Col_name)\n",
    "    - Shows standard deviation of certain column\n"
   ]
  },
  {
   "cell_type": "code",
   "execution_count": null,
   "metadata": {},
   "outputs": [],
   "source": []
  }
 ],
 "metadata": {
  "kernelspec": {
   "display_name": "R",
   "language": "R",
   "name": "ir"
  },
  "language_info": {
   "codemirror_mode": "r",
   "file_extension": ".r",
   "mimetype": "text/x-r-source",
   "name": "R",
   "pygments_lexer": "r",
   "version": "3.6.1"
  }
 },
 "nbformat": 4,
 "nbformat_minor": 4
}
